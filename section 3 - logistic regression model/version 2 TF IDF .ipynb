{
 "cells": [
  {
   "cell_type": "code",
   "id": "initial_id",
   "metadata": {
    "collapsed": true,
    "ExecuteTime": {
     "end_time": "2025-01-17T13:06:39.287282Z",
     "start_time": "2025-01-17T13:06:36.126337Z"
    }
   },
   "source": [
    "import pandas as pd\n",
    "\n",
    "# Load the preprocessed data from CSV files\n",
    "train_data = pd.read_csv(\"../train.csv\")\n",
    "val_data = pd.read_csv(\"../val.csv\")\n",
    "test_data = pd.read_csv(\"../test.csv\")"
   ],
   "outputs": [],
   "execution_count": 2
  },
  {
   "metadata": {
    "ExecuteTime": {
     "end_time": "2025-01-17T13:06:39.293991Z",
     "start_time": "2025-01-17T13:06:39.289280Z"
    }
   },
   "cell_type": "code",
   "source": [
    "X_train = train_data['text']\n",
    "y_train = train_data['label']\n",
    "\n",
    "X_val = val_data['text']\n",
    "y_val = val_data['label']\n",
    "\n",
    "X_test = test_data['text']\n",
    "y_test = test_data['label']"
   ],
   "id": "18a2f473560b7baa",
   "outputs": [],
   "execution_count": 3
  },
  {
   "metadata": {
    "ExecuteTime": {
     "end_time": "2025-01-17T13:07:06.032547Z",
     "start_time": "2025-01-17T13:06:39.294994Z"
    }
   },
   "cell_type": "code",
   "source": [
    "from sklearn.feature_extraction.text import TfidfVectorizer\n",
    "\n",
    "# Use CountVectorizer for simple tokenization and vectorization\n",
    "vectorizer = TfidfVectorizer(stop_words='english', max_features=5000)\n",
    "X_train_vec = vectorizer.fit_transform(X_train)\n",
    "X_val_vec = vectorizer.transform(X_val)\n",
    "X_test_vec = vectorizer.transform(X_test)"
   ],
   "id": "a6fd990f84bae558",
   "outputs": [],
   "execution_count": 4
  },
  {
   "metadata": {
    "ExecuteTime": {
     "end_time": "2025-01-17T13:07:06.733528Z",
     "start_time": "2025-01-17T13:07:06.034826Z"
    }
   },
   "cell_type": "code",
   "source": [
    "from sklearn.linear_model import LogisticRegression\n",
    "from sklearn.metrics import accuracy_score, classification_report\n",
    "\n",
    "# Train a simple Logistic Regression model\n",
    "model = LogisticRegression(max_iter=1000)\n",
    "model.fit(X_train_vec, y_train)\n",
    "\n",
    "# Predict on the validation data\n",
    "y_val_pred = model.predict(X_val_vec)\n",
    "\n",
    "# Evaluate the model\n",
    "accuracy = accuracy_score(y_val, y_val_pred)\n",
    "print(f\"Validation Accuracy: {accuracy}\")\n",
    "print(classification_report(y_val, y_val_pred))\n"
   ],
   "id": "8baad71a19a3b368",
   "outputs": [
    {
     "name": "stdout",
     "output_type": "stream",
     "text": [
      "Validation Accuracy: 0.923963133640553\n",
      "              precision    recall  f1-score   support\n",
      "\n",
      "           0       0.92      0.91      0.92      4328\n",
      "           1       0.93      0.93      0.93      5220\n",
      "\n",
      "    accuracy                           0.92      9548\n",
      "   macro avg       0.92      0.92      0.92      9548\n",
      "weighted avg       0.92      0.92      0.92      9548\n",
      "\n"
     ]
    }
   ],
   "execution_count": 5
  },
  {
   "metadata": {
    "ExecuteTime": {
     "end_time": "2025-01-17T13:07:06.758210Z",
     "start_time": "2025-01-17T13:07:06.734530Z"
    }
   },
   "cell_type": "code",
   "source": [
    "# test the model with the test set\n",
    "y_test_pred = model.predict(X_test_vec)\n",
    "\n",
    "# Evaluate the model\n",
    "accuracy = accuracy_score(y_test, y_test_pred)\n",
    "print(f\"Validation Accuracy: {accuracy}\")\n",
    "print(classification_report(y_test, y_test_pred))"
   ],
   "id": "a79200e44b151e3e",
   "outputs": [
    {
     "name": "stdout",
     "output_type": "stream",
     "text": [
      "Validation Accuracy: 0.9285564634401844\n",
      "              precision    recall  f1-score   support\n",
      "\n",
      "           0       0.93      0.91      0.92      4327\n",
      "           1       0.93      0.94      0.94      5219\n",
      "\n",
      "    accuracy                           0.93      9546\n",
      "   macro avg       0.93      0.93      0.93      9546\n",
      "weighted avg       0.93      0.93      0.93      9546\n",
      "\n"
     ]
    }
   ],
   "execution_count": 6
  }
 ],
 "metadata": {
  "kernelspec": {
   "display_name": "Python 3",
   "language": "python",
   "name": "python3"
  },
  "language_info": {
   "codemirror_mode": {
    "name": "ipython",
    "version": 2
   },
   "file_extension": ".py",
   "mimetype": "text/x-python",
   "name": "python",
   "nbconvert_exporter": "python",
   "pygments_lexer": "ipython2",
   "version": "2.7.6"
  }
 },
 "nbformat": 4,
 "nbformat_minor": 5
}
