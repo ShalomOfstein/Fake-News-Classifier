{
 "cells": [
  {
   "cell_type": "code",
   "id": "initial_id",
   "metadata": {
    "collapsed": true,
    "ExecuteTime": {
     "end_time": "2025-01-06T21:04:55.655540Z",
     "start_time": "2025-01-06T21:04:52.709321Z"
    }
   },
   "source": [
    "import pandas as pd\n",
    "\n",
    "# Load the preprocessed data from CSV files\n",
    "train_data = pd.read_csv(\"train.csv\")\n",
    "val_data = pd.read_csv(\"val.csv\")\n",
    "test_data = pd.read_csv(\"test.csv\")"
   ],
   "outputs": [],
   "execution_count": 1
  },
  {
   "metadata": {
    "ExecuteTime": {
     "end_time": "2025-01-06T21:05:10.339335Z",
     "start_time": "2025-01-06T21:05:10.328742Z"
    }
   },
   "cell_type": "code",
   "source": [
    "X_train = train_data['text']\n",
    "y_train = train_data['label']\n",
    "\n",
    "X_val = val_data['text']\n",
    "y_val = val_data['label']\n",
    "\n",
    "X_test = test_data['text']\n",
    "y_test = test_data['label']"
   ],
   "id": "18a2f473560b7baa",
   "outputs": [],
   "execution_count": 2
  },
  {
   "metadata": {
    "ExecuteTime": {
     "end_time": "2025-01-06T21:05:27.097418Z",
     "start_time": "2025-01-06T21:05:12.606146Z"
    }
   },
   "cell_type": "code",
   "source": [
    "from sklearn.feature_extraction.text import TfidfVectorizer\n",
    "\n",
    "# Use CountVectorizer for simple tokenization and vectorization\n",
    "vectorizer = TfidfVectorizer(stop_words='english', max_features=5000)\n",
    "X_train_vec = vectorizer.fit_transform(X_train)\n",
    "X_val_vec = vectorizer.transform(X_val)\n",
    "X_test_vec = vectorizer.transform(X_test)"
   ],
   "id": "a6fd990f84bae558",
   "outputs": [],
   "execution_count": 3
  },
  {
   "metadata": {
    "ExecuteTime": {
     "end_time": "2025-01-06T21:05:31.257936Z",
     "start_time": "2025-01-06T21:05:30.363610Z"
    }
   },
   "cell_type": "code",
   "source": [
    "from sklearn.linear_model import LogisticRegression\n",
    "from sklearn.metrics import accuracy_score, classification_report\n",
    "\n",
    "# Train a simple Logistic Regression model\n",
    "model = LogisticRegression(max_iter=1000)\n",
    "model.fit(X_train_vec, y_train)\n",
    "\n",
    "# Predict on the validation data\n",
    "y_val_pred = model.predict(X_val_vec)\n",
    "\n",
    "# Evaluate the model\n",
    "accuracy = accuracy_score(y_val, y_val_pred)\n",
    "print(f\"Validation Accuracy: {accuracy}\")\n",
    "print(classification_report(y_val, y_val_pred))\n"
   ],
   "id": "8baad71a19a3b368",
   "outputs": [
    {
     "name": "stdout",
     "output_type": "stream",
     "text": [
      "Validation Accuracy: 0.978264343934793\n",
      "              precision    recall  f1-score   support\n",
      "\n",
      "           0       0.98      0.98      0.98      2970\n",
      "           1       0.98      0.98      0.98      3287\n",
      "\n",
      "    accuracy                           0.98      6257\n",
      "   macro avg       0.98      0.98      0.98      6257\n",
      "weighted avg       0.98      0.98      0.98      6257\n"
     ]
    }
   ],
   "execution_count": 4
  },
  {
   "metadata": {
    "ExecuteTime": {
     "end_time": "2025-01-06T21:05:38.696216Z",
     "start_time": "2025-01-06T21:05:38.682349Z"
    }
   },
   "cell_type": "code",
   "source": [
    "X_train.tail()\n"
   ],
   "id": "dede1bfda287bfc",
   "outputs": [
    {
     "data": {
      "text/plain": [
       "25020    the leftist media was quick to blame donald tr...\n",
       "25021    u.s. presidential candidate donald trump on we...\n",
       "25022    new president emmerson mnangagwa laid out a gr...\n",
       "25023    the afghan taliban on wednesday called on u.s....\n",
       "25024    the ny daily news is never shy when it comes t...\n",
       "Name: text, dtype: object"
      ]
     },
     "execution_count": 5,
     "metadata": {},
     "output_type": "execute_result"
    }
   ],
   "execution_count": 5
  },
  {
   "metadata": {
    "ExecuteTime": {
     "end_time": "2025-01-06T21:05:56.587606Z",
     "start_time": "2025-01-06T21:05:56.581534Z"
    }
   },
   "cell_type": "code",
   "source": [
    "y_train.tail()\n"
   ],
   "id": "330e17a2e2768170",
   "outputs": [
    {
     "data": {
      "text/plain": [
       "25020    1\n",
       "25021    0\n",
       "25022    0\n",
       "25023    0\n",
       "25024    1\n",
       "Name: label, dtype: int64"
      ]
     },
     "execution_count": 6,
     "metadata": {},
     "output_type": "execute_result"
    }
   ],
   "execution_count": 6
  },
  {
   "metadata": {},
   "cell_type": "code",
   "outputs": [],
   "execution_count": null,
   "source": [
    "    "
   ],
   "id": "a79200e44b151e3e"
  }
 ],
 "metadata": {
  "kernelspec": {
   "display_name": "Python 3",
   "language": "python",
   "name": "python3"
  },
  "language_info": {
   "codemirror_mode": {
    "name": "ipython",
    "version": 2
   },
   "file_extension": ".py",
   "mimetype": "text/x-python",
   "name": "python",
   "nbconvert_exporter": "python",
   "pygments_lexer": "ipython2",
   "version": "2.7.6"
  }
 },
 "nbformat": 4,
 "nbformat_minor": 5
}
