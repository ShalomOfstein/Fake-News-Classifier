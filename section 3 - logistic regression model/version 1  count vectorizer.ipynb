{
 "cells": [
  {
   "cell_type": "code",
   "id": "initial_id",
   "metadata": {
    "collapsed": true,
    "ExecuteTime": {
     "end_time": "2025-01-17T12:46:00.943298Z",
     "start_time": "2025-01-17T12:45:56.153676Z"
    }
   },
   "source": [
    "import pandas as pd\n",
    "\n",
    "# Load the preprocessed data from CSV files\n",
    "train_data = pd.read_csv(\"../train.csv\")\n",
    "val_data = pd.read_csv(\"../val.csv\")\n",
    "test_data = pd.read_csv(\"../test.csv\")"
   ],
   "outputs": [],
   "execution_count": 3
  },
  {
   "metadata": {
    "ExecuteTime": {
     "end_time": "2025-01-17T12:46:06.341182Z",
     "start_time": "2025-01-17T12:46:06.330934Z"
    }
   },
   "cell_type": "code",
   "source": [
    "X_train = train_data['text']\n",
    "y_train = train_data['label']\n",
    "\n",
    "X_val = val_data['text']\n",
    "y_val = val_data['label']\n",
    "\n",
    "X_test = test_data['text']\n",
    "y_test = test_data['label']"
   ],
   "id": "18a2f473560b7baa",
   "outputs": [],
   "execution_count": 4
  },
  {
   "metadata": {
    "ExecuteTime": {
     "end_time": "2025-01-17T12:46:47.481232Z",
     "start_time": "2025-01-17T12:46:08.361653Z"
    }
   },
   "cell_type": "code",
   "source": [
    "from sklearn.feature_extraction.text import CountVectorizer\n",
    "\n",
    "# Use CountVectorizer for simple tokenization and vectorization\n",
    "vectorizer = CountVectorizer(stop_words='english', max_features=5000)\n",
    "X_train_vec = vectorizer.fit_transform(X_train)\n",
    "X_val_vec = vectorizer.transform(X_val)\n",
    "X_test_vec = vectorizer.transform(X_test)"
   ],
   "id": "a6fd990f84bae558",
   "outputs": [],
   "execution_count": 5
  },
  {
   "metadata": {
    "ExecuteTime": {
     "end_time": "2025-01-17T12:46:56.810330Z",
     "start_time": "2025-01-17T12:46:49.518449Z"
    }
   },
   "cell_type": "code",
   "source": [
    "from sklearn.linear_model import LogisticRegression\n",
    "from sklearn.metrics import accuracy_score, classification_report\n",
    "\n",
    "# Train a simple Logistic Regression model\n",
    "model = LogisticRegression(max_iter=1000)\n",
    "model.fit(X_train_vec, y_train)\n",
    "\n",
    "# Predict on the validation data\n",
    "y_val_pred = model.predict(X_val_vec)\n",
    "\n",
    "# Evaluate the model\n",
    "accuracy = accuracy_score(y_val, y_val_pred)\n",
    "print(f\"Validation Accuracy: {accuracy}\")\n",
    "print(classification_report(y_val, y_val_pred))\n"
   ],
   "id": "8baad71a19a3b368",
   "outputs": [
    {
     "name": "stdout",
     "output_type": "stream",
     "text": [
      "Validation Accuracy: 0.9081483033095936\n",
      "              precision    recall  f1-score   support\n",
      "\n",
      "           0       0.90      0.90      0.90      4328\n",
      "           1       0.92      0.92      0.92      5220\n",
      "\n",
      "    accuracy                           0.91      9548\n",
      "   macro avg       0.91      0.91      0.91      9548\n",
      "weighted avg       0.91      0.91      0.91      9548\n",
      "\n"
     ]
    }
   ],
   "execution_count": 6
  },
  {
   "metadata": {
    "ExecuteTime": {
     "end_time": "2025-01-17T12:49:10.354909Z",
     "start_time": "2025-01-17T12:49:10.143098Z"
    }
   },
   "cell_type": "code",
   "source": [
    "# test the model with the test set\n",
    "y_test_pred = model.predict(X_test_vec)\n",
    "\n",
    "# Evaluate the model\n",
    "accuracy = accuracy_score(y_test, y_test_pred)\n",
    "print(f\"Validation Accuracy: {accuracy}\")\n",
    "print(classification_report(y_test, y_test_pred))\n"
   ],
   "id": "dede1bfda287bfc",
   "outputs": [
    {
     "name": "stdout",
     "output_type": "stream",
     "text": [
      "Validation Accuracy: 0.9090718625602346\n",
      "              precision    recall  f1-score   support\n",
      "\n",
      "           0       0.90      0.90      0.90      4327\n",
      "           1       0.92      0.92      0.92      5219\n",
      "\n",
      "    accuracy                           0.91      9546\n",
      "   macro avg       0.91      0.91      0.91      9546\n",
      "weighted avg       0.91      0.91      0.91      9546\n",
      "\n"
     ]
    }
   ],
   "execution_count": 7
  },
  {
   "metadata": {},
   "cell_type": "code",
   "outputs": [],
   "execution_count": null,
   "source": [
    "    "
   ],
   "id": "a79200e44b151e3e"
  }
 ],
 "metadata": {
  "kernelspec": {
   "display_name": "Python 3",
   "language": "python",
   "name": "python3"
  },
  "language_info": {
   "codemirror_mode": {
    "name": "ipython",
    "version": 2
   },
   "file_extension": ".py",
   "mimetype": "text/x-python",
   "name": "python",
   "nbconvert_exporter": "python",
   "pygments_lexer": "ipython2",
   "version": "2.7.6"
  }
 },
 "nbformat": 4,
 "nbformat_minor": 5
}
