{
 "cells": [
  {
   "cell_type": "raw",
   "source": [
    "# Train\n",
    "\n",
    "The train process is simple. We will always predicting the majority class."
   ],
   "metadata": {
    "collapsed": false
   },
   "id": "8ab3e0b4e90ed17e"
  },
  {
   "cell_type": "code",
   "source": [
    "with open(\"data/trim_data/true_train.csv\", encoding=\"utf-8\") as true_train_file, \\\n",
    "        open(\"data/trim_data/fake_train.csv\", encoding=\"utf-8\") as fake_train_file:\n",
    "    # Get the number of lines in each file\n",
    "    true_train_lines = sum(1 for line in true_train_file)\n",
    "    fake_train_lines = sum(1 for line in fake_train_file)"
   ],
   "metadata": {
    "collapsed": false,
    "ExecuteTime": {
     "end_time": "2025-01-06T17:38:03.747491Z",
     "start_time": "2025-01-06T17:38:03.692066Z"
    }
   },
   "id": "initial_id",
   "outputs": [],
   "execution_count": 4
  },
  {
   "cell_type": "raw",
   "source": [
    "# Test"
   ],
   "metadata": {
    "collapsed": false
   },
   "id": "286c6acb26a4a3ba"
  },
  {
   "cell_type": "code",
   "source": [
    "with open(\"data/trim_data/true_test.csv\", encoding=\"utf-8\") as true_test_file, open(\"data/trim_data/fake_test.csv\", encoding=\"utf-8\") as fake_test_file:\n",
    "    true_test_lines = sum(1 for line in true_test_file)\n",
    "    fake_test_lines = sum(1 for line in fake_test_file)"
   ],
   "metadata": {
    "collapsed": false,
    "ExecuteTime": {
     "end_time": "2025-01-06T17:38:25.097141Z",
     "start_time": "2025-01-06T17:38:25.070347Z"
    }
   },
   "id": "aadfd65fdf9305fb",
   "outputs": [],
   "execution_count": 6
  },
  {
   "cell_type": "code",
   "source": [
    "\n",
    "if true_train_lines > fake_train_lines:\n",
    "    print(\"Model with predict true for all test data\")\n",
    "    # we don't have TN and FN (we always predict true)\n",
    "    accuracy = true_test_lines / (true_test_lines + fake_test_lines)\n",
    "    precision = true_test_lines / (true_test_lines + fake_test_lines)\n",
    "    recall = 1\n",
    "else:\n",
    "    print(\"Model with predict fake for all test data\")\n",
    "    # we don't have TP and FP (we always predict fake)\n",
    "    accuracy = fake_test_lines / (true_test_lines + fake_test_lines)\n",
    "    precision = 0 # we don't have TP\n",
    "    recall = 0 # we don't have TP\n",
    "    \n",
    "print(f\"Accuracy: {accuracy}\")\n",
    "print(f\"Precision: {precision}\")\n",
    "print(f\"Recall: {recall}\")\n",
    "    "
   ],
   "metadata": {
    "collapsed": false,
    "ExecuteTime": {
     "end_time": "2025-01-06T17:38:30.390693Z",
     "start_time": "2025-01-06T17:38:30.383279Z"
    }
   },
   "id": "2bfce750e8bd0d80",
   "outputs": [
    {
     "name": "stdout",
     "output_type": "stream",
     "text": [
      "Model with predict true for all test data\n",
      "Accuracy: 0.5145929339477726\n",
      "Precision: 0.5145929339477726\n",
      "Recall: 1\n"
     ]
    }
   ],
   "execution_count": 7
  },
  {
   "metadata": {},
   "cell_type": "code",
   "outputs": [],
   "execution_count": null,
   "source": "",
   "id": "f63cf3c621dee8e7"
  }
 ],
 "metadata": {
  "kernelspec": {
   "display_name": "Python 3",
   "language": "python",
   "name": "python3"
  },
  "language_info": {
   "codemirror_mode": {
    "name": "ipython",
    "version": 2
   },
   "file_extension": ".py",
   "mimetype": "text/x-python",
   "name": "python",
   "nbconvert_exporter": "python",
   "pygments_lexer": "ipython2",
   "version": "2.7.6"
  }
 },
 "nbformat": 4,
 "nbformat_minor": 5
}
