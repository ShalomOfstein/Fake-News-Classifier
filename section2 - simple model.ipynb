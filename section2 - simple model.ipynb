{
 "cells": [
  {
   "cell_type": "raw",
   "source": [
    "# Train\n",
    "\n",
    "The train process is simple. We will always predicting the majority class."
   ],
   "metadata": {
    "collapsed": false
   },
   "id": "8ab3e0b4e90ed17e"
  },
  {
   "cell_type": "code",
   "execution_count": 1,
   "outputs": [
    {
     "name": "stdout",
     "output_type": "stream",
     "text": [
      "True train data count: 24352\n",
      "Fake train data count: 20193\n",
      "True test data count: 5219\n",
      "Fake test data count: 4327\n"
     ]
    }
   ],
   "source": [
    "import math\n",
    "\n",
    "import pandas as pd\n",
    "\n",
    "train_data = pd.read_csv(\"train.csv\")\n",
    "test_data = pd.read_csv(\"test.csv\")\n",
    "\n",
    "true_train_lines = train_data[\"label\"].value_counts()[1]\n",
    "fake_train_lines = train_data[\"label\"].value_counts()[0]\n",
    "\n",
    "true_test_lines = test_data[\"label\"].value_counts()[1]\n",
    "fake_test_lines = test_data[\"label\"].value_counts()[0]\n",
    "\n",
    "print(f\"True train data count: {true_train_lines}\")\n",
    "print(f\"Fake train data count: {fake_train_lines}\")\n",
    "\n",
    "print(f\"True test data count: {true_test_lines}\")\n",
    "print(f\"Fake test data count: {fake_test_lines}\")\n"
   ],
   "metadata": {
    "collapsed": false,
    "ExecuteTime": {
     "end_time": "2025-01-19T14:20:03.052358200Z",
     "start_time": "2025-01-19T14:20:00.160365700Z"
    }
   },
   "id": "89d62c1c6e743cd6"
  },
  {
   "cell_type": "code",
   "source": [
    "# Calculate the baseline metrics\n",
    "if true_train_lines > fake_train_lines:\n",
    "    print(\"Model will predict true for all test data\")\n",
    "    # True Positives (TP) and False Negatives (FN)\n",
    "    tp = true_test_lines\n",
    "    fn = 0\n",
    "    # False Positives (FP) and True Negatives (TN)\n",
    "    fp = fake_test_lines\n",
    "    tn = 0\n",
    "else:\n",
    "    print(\"Model will predict fake for all test data\")\n",
    "    # True Positives (TP) and False Negatives (FN)\n",
    "    tp = 0\n",
    "    fn = true_test_lines\n",
    "    # False Positives (FP) and True Negatives (TN)\n",
    "    fp = 0\n",
    "    tn = fake_test_lines\n",
    "\n",
    "# Calculate metrics\n",
    "accuracy = (tp + tn) / (true_test_lines + fake_test_lines)\n",
    "precision_true = tp / (tp + fp) if (tp + fp) > 0 else math.nan\n",
    "recall_true = tp / (tp + fn) if (tp + fn) > 0 else math.nan\n",
    "f1_true = 2 * (precision_true * recall_true) / (precision_true + recall_true) if (precision_true + recall_true) > 0 else math.nan\n",
    "\n",
    "precision_fake = tn / (tn + fn) if (tn + fn) > 0 else math.nan\n",
    "recall_fake = tn / (tn + fp) if (tn + fp) > 0 else math.nan\n",
    "f1_fake = 2 * (precision_fake * recall_fake) / (precision_fake + recall_fake) if (precision_fake + recall_fake) > 0 else math.nan\n",
    "\n",
    "# Print metrics\n",
    "print(f\"Accuracy: {accuracy}\")\n",
    "print(f\"Precision (True): {precision_true}\")\n",
    "print(f\"Recall (True): {recall_true}\")\n",
    "print(f\"F1 Score (True): {f1_true}\")\n",
    "print(f\"Precision (Fake): {precision_fake}\")\n",
    "print(f\"Recall (Fake): {recall_fake}\")\n",
    "print(f\"F1 Score (Fake): {f1_fake}\")"
   ],
   "metadata": {
    "collapsed": false,
    "ExecuteTime": {
     "end_time": "2025-01-19T14:20:03.063378900Z",
     "start_time": "2025-01-19T14:20:03.053359300Z"
    }
   },
   "id": "2bfce750e8bd0d80",
   "outputs": [
    {
     "name": "stdout",
     "output_type": "stream",
     "text": [
      "Model will predict true for all test data\n",
      "Accuracy: 0.5467211397443955\n",
      "Precision (True): 0.5467211397443955\n",
      "Recall (True): 1.0\n",
      "F1 Score (True): 0.7069420927869963\n",
      "Precision (Fake): nan\n",
      "Recall (Fake): 0.0\n",
      "F1 Score (Fake): nan\n"
     ]
    }
   ],
   "execution_count": 2
  }
 ],
 "metadata": {
  "kernelspec": {
   "display_name": "Python 3",
   "language": "python",
   "name": "python3"
  },
  "language_info": {
   "codemirror_mode": {
    "name": "ipython",
    "version": 2
   },
   "file_extension": ".py",
   "mimetype": "text/x-python",
   "name": "python",
   "nbconvert_exporter": "python",
   "pygments_lexer": "ipython2",
   "version": "2.7.6"
  }
 },
 "nbformat": 4,
 "nbformat_minor": 5
}
