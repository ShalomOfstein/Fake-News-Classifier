{
 "cells": [
  {
   "cell_type": "code",
   "execution_count": 1,
   "id": "initial_id",
   "metadata": {
    "collapsed": true,
    "ExecuteTime": {
     "end_time": "2025-01-16T17:16:10.349259Z",
     "start_time": "2025-01-16T17:16:06.285007200Z"
    }
   },
   "outputs": [],
   "source": [
    "# Import Libraries\n",
    "import numpy as np\n",
    "import pandas as pd\n",
    "import torch\n",
    "from sklearn.model_selection import train_test_split\n",
    "\n",
    "from torch import nn\n",
    "from torch.utils.data import Dataset, DataLoader\n",
    "from sklearn.metrics import accuracy_score\n",
    "from gensim.models import KeyedVectors\n",
    "import matplotlib.pyplot as plt\n",
    "import random\n",
    "\n",
    "from MLPModel import MLPModel"
   ]
  },
  {
   "cell_type": "code",
   "execution_count": 2,
   "outputs": [
    {
     "name": "stdout",
     "output_type": "stream",
     "text": [
      "Using device: cpu\n"
     ]
    }
   ],
   "source": [
    "# Check if GPU is available\n",
    "device = torch.device(\"cuda\" if torch.cuda.is_available() else \"cpu\")\n",
    "print(f\"Using device: {device}\")"
   ],
   "metadata": {
    "collapsed": false,
    "ExecuteTime": {
     "end_time": "2025-01-16T17:16:10.375446600Z",
     "start_time": "2025-01-16T17:16:10.353261200Z"
    }
   },
   "id": "d80b677c4a52cac"
  },
  {
   "cell_type": "code",
   "execution_count": 3,
   "outputs": [],
   "source": [
    "# Load the preprocessed data from CSV files\n",
    "new_data = pd.read_csv(\"../WELFake_Dataset.csv\")\n",
    "\n",
    "# split the new data into train and test\n",
    "new_train_data, new_test_data = train_test_split(new_data, test_size=0.2)\n",
    "\n",
    "X_train = new_train_data['text']\n",
    "X_train = pd.Series(X_train).fillna(\"\").tolist()\n",
    "y_train = new_train_data['label']\n",
    "\n",
    "X_test = new_test_data['text']\n",
    "X_test = pd.Series(X_test).fillna(\"\").tolist()\n",
    "y_test = new_test_data['label']"
   ],
   "metadata": {
    "collapsed": false,
    "ExecuteTime": {
     "end_time": "2025-01-16T17:16:12.839677400Z",
     "start_time": "2025-01-16T17:16:10.372356400Z"
    }
   },
   "id": "50014108420c9659"
  },
  {
   "cell_type": "code",
   "execution_count": 4,
   "outputs": [],
   "source": [
    "# Load pre-trained Word2Vec model\n",
    "word2vec = KeyedVectors.load_word2vec_format(\"../GoogleNews-vectors-negative300.bin.gz\", binary=True)\n"
   ],
   "metadata": {
    "collapsed": false,
    "ExecuteTime": {
     "end_time": "2025-01-16T17:16:52.877757800Z",
     "start_time": "2025-01-16T17:16:12.842174900Z"
    }
   },
   "id": "e14867cd0f0ce5a0"
  },
  {
   "cell_type": "code",
   "execution_count": 5,
   "outputs": [
    {
     "name": "stderr",
     "output_type": "stream",
     "text": [
      "C:\\Users\\shayg\\AppData\\Local\\Temp\\ipykernel_6000\\2728886286.py:3: FutureWarning: You are using `torch.load` with `weights_only=False` (the current default value), which uses the default pickle module implicitly. It is possible to construct malicious pickle data which will execute arbitrary code during unpickling (See https://github.com/pytorch/pytorch/blob/main/SECURITY.md#untrusted-models for more details). In a future release, the default value for `weights_only` will be flipped to `True`. This limits the functions that could be executed during unpickling. Arbitrary objects will no longer be allowed to be loaded via this mode unless they are explicitly allowlisted by the user via `torch.serialization.add_safe_globals`. We recommend you start setting `weights_only=True` for any use case where you don't have full control of the loaded file. Please open an issue on GitHub for any issues related to this experimental feature.\n",
      "  trained_state = torch.load('fine_tuned_model.pth')\n"
     ]
    },
    {
     "ename": "MemoryError",
     "evalue": "Unable to allocate 465. MiB for an array with shape (203269, 300) and data type float64",
     "output_type": "error",
     "traceback": [
      "\u001B[1;31m---------------------------------------------------------------------------\u001B[0m",
      "\u001B[1;31mMemoryError\u001B[0m                               Traceback (most recent call last)",
      "Cell \u001B[1;32mIn[5], line 17\u001B[0m\n\u001B[0;32m     14\u001B[0m     vocab[\u001B[38;5;124mf\u001B[39m\u001B[38;5;124m\"\u001B[39m\u001B[38;5;124mword_\u001B[39m\u001B[38;5;132;01m{\u001B[39;00mi\u001B[38;5;132;01m}\u001B[39;00m\u001B[38;5;124m\"\u001B[39m] \u001B[38;5;241m=\u001B[39m \u001B[38;5;28mlen\u001B[39m(vocab)\n\u001B[0;32m     15\u001B[0m     embedding_matrix\u001B[38;5;241m.\u001B[39mappend(original_embedding_weights[i]\u001B[38;5;241m.\u001B[39mnumpy())\n\u001B[1;32m---> 17\u001B[0m embedding_matrix \u001B[38;5;241m=\u001B[39m \u001B[43mnp\u001B[49m\u001B[38;5;241;43m.\u001B[39;49m\u001B[43marray\u001B[49m\u001B[43m(\u001B[49m\u001B[43membedding_matrix\u001B[49m\u001B[43m)\u001B[49m\n\u001B[0;32m     19\u001B[0m \u001B[38;5;66;03m# Build vocabulary from Word2Vec\u001B[39;00m\n\u001B[0;32m     20\u001B[0m \u001B[38;5;28;01mfor\u001B[39;00m text \u001B[38;5;129;01min\u001B[39;00m X_train:\n",
      "\u001B[1;31mMemoryError\u001B[0m: Unable to allocate 465. MiB for an array with shape (203269, 300) and data type float64"
     ]
    }
   ],
   "source": [
    "# Create a vocabulary\n",
    "# Load the training vocabulary and embedding matrix\n",
    "trained_state = torch.load('fine_tuned_model.pth')\n",
    "original_embedding_weights = trained_state['embedding.weight']\n",
    "vocab_size = original_embedding_weights.shape[0]\n",
    "\n",
    "# Create vocabulary with same words as original model\n",
    "embedding_dim = 300\n",
    "vocab = {\"<PAD>\": 0, \"<UNK>\": 1}  # Special tokens\n",
    "embedding_matrix = [np.zeros(embedding_dim), np.random.uniform(-0.01, 0.01, embedding_dim)]\n",
    "\n",
    "# First add all words from original embedding matrix\n",
    "for i in range(2, vocab_size):  # Skip PAD and UNK tokens\n",
    "    vocab[f\"word_{i}\"] = len(vocab)\n",
    "    embedding_matrix.append(original_embedding_weights[i].numpy())\n",
    "\n",
    "embedding_matrix = np.array(embedding_matrix)\n",
    "\n",
    "# Build vocabulary from Word2Vec\n",
    "for text in X_train:\n",
    "    for word in text.split():\n",
    "        if word not in vocab and word in word2vec:\n",
    "            vocab[word] = len(vocab)\n",
    "            embedding_matrix.append(word2vec[word])\n",
    "\n",
    "embedding_matrix = np.array(embedding_matrix)\n",
    "vocab_size = len(vocab)\n",
    "\n",
    "print(f\"Vocabulary size: {vocab_size}\")"
   ],
   "metadata": {
    "collapsed": false,
    "ExecuteTime": {
     "end_time": "2025-01-16T17:16:55.138833600Z",
     "start_time": "2025-01-16T17:16:52.918760800Z"
    }
   },
   "id": "3e31b62e9e61cc96"
  },
  {
   "cell_type": "code",
   "execution_count": null,
   "outputs": [],
   "source": [
    "# Tokenize and convert text to sequences\n",
    "def text_to_sequence(text, vocab, max_len=1000):\n",
    "    sequence = [vocab.get(word, vocab[\"<UNK>\"]) for word in text.split()]\n",
    "    if len(sequence) < max_len:\n",
    "        sequence.extend([vocab[\"<PAD>\"]] * (max_len - len(sequence)))\n",
    "    return sequence[:max_len]\n",
    "\n",
    "# Apply tokenization\n",
    "max_len = 1000\n",
    "X_test_seq = [text_to_sequence(text, vocab, max_len) for text in X_test]"
   ],
   "metadata": {
    "collapsed": false,
    "ExecuteTime": {
     "end_time": "2025-01-16T17:16:55.150354500Z",
     "start_time": "2025-01-16T17:16:55.142833800Z"
    }
   },
   "id": "98af0d15546a97cd"
  },
  {
   "cell_type": "code",
   "execution_count": null,
   "outputs": [],
   "source": [
    "def augment_text(text):\n",
    "    words = text.split()\n",
    "    # Randomly drop some words (with 20% probability)\n",
    "    words = [w for w in words if random.random() > 0.2]\n",
    "    # If we dropped all words (unlikely but possible), return original text\n",
    "    if not words:\n",
    "        return text\n",
    "    return ' '.join(words)\n",
    "\n",
    "# Custom Dataset Class\n",
    "class TextDataset(Dataset):\n",
    "    def __init__(self, texts, labels, is_training=False):\n",
    "        self.texts = torch.tensor(texts, dtype=torch.long)\n",
    "        self.labels = torch.tensor(labels.values, dtype=torch.float32)\n",
    "        self.is_training = is_training\n",
    "        \n",
    "    def __len__(self):\n",
    "        return len(self.labels)\n",
    "        \n",
    "    def __getitem__(self, idx):\n",
    "        if self.is_training:\n",
    "            # Get the original sequence\n",
    "            sequence = self.texts[idx].tolist()  # Convert tensor to list\n",
    "            # Remove padding tokens for augmentation\n",
    "            sequence = [x for x in sequence if x != vocab[\"<PAD>\"]]\n",
    "            # Augment\n",
    "            if len(sequence) > 0:  # Only augment if we have tokens\n",
    "                sequence = [x for x in sequence if random.random() > 0.2]\n",
    "            # Re-pad the sequence\n",
    "            if len(sequence) < max_len:\n",
    "                sequence.extend([vocab[\"<PAD>\"]] * (max_len - len(sequence)))\n",
    "            sequence = sequence[:max_len]\n",
    "            # Convert back to tensor\n",
    "            text = torch.tensor(sequence, dtype=torch.long)\n",
    "        else:\n",
    "            text = self.texts[idx]\n",
    "            \n",
    "        return text, self.labels[idx]"
   ],
   "metadata": {
    "collapsed": false,
    "ExecuteTime": {
     "start_time": "2025-01-16T17:16:55.147833600Z"
    }
   },
   "id": "c91e1afdc299280f"
  },
  {
   "cell_type": "code",
   "execution_count": null,
   "outputs": [],
   "source": [
    "# Create Dataset and DataLoader\n",
    "batch_size = 32\n",
    "test_dataset = TextDataset(X_test_seq, y_test, is_training=False)\n",
    "\n",
    "test_loader = DataLoader(test_dataset, batch_size=32)"
   ],
   "metadata": {
    "collapsed": false,
    "ExecuteTime": {
     "end_time": "2025-01-16T17:16:55.154356800Z",
     "start_time": "2025-01-16T17:16:55.154356800Z"
    }
   },
   "id": "3afac74fa4494c8f"
  },
  {
   "cell_type": "code",
   "execution_count": null,
   "outputs": [],
   "source": [
    "# Create model with the same embedding matrix as training\n",
    "model = MLPModel(\n",
    "    embedding_matrix=embedding_matrix,\n",
    "    hidden_dims=[256, 128, 64],\n",
    "    output_dim=1\n",
    ").to(device)\n",
    "\n",
    "# Load the trained weights\n",
    "model.load_state_dict(torch.load('fine_tuned_model.pth'))"
   ],
   "metadata": {
    "collapsed": false,
    "ExecuteTime": {
     "end_time": "2025-01-16T17:16:55.168354800Z",
     "start_time": "2025-01-16T17:16:55.163358200Z"
    }
   },
   "id": "4c93ea4d6260dfcc"
  },
  {
   "cell_type": "markdown",
   "source": [
    "## Test the model"
   ],
   "metadata": {
    "collapsed": false
   },
   "id": "14a18e383bd6c5bd"
  },
  {
   "cell_type": "code",
   "execution_count": null,
   "outputs": [],
   "source": [
    "X_test_seq = [text_to_sequence(text, vocab, max_len) for text in X_test]\n",
    "test_dataset = TextDataset(X_test_seq, y_test, is_training=False)\n",
    "test_loader = DataLoader(test_dataset, batch_size=32)\n",
    "\n",
    "model.eval()\n",
    "with torch.no_grad():\n",
    "    test_preds = []\n",
    "    test_labels = []\n",
    "    for texts, labels in test_loader:\n",
    "        texts, labels = texts.to(device), labels.to(device)\n",
    "        outputs = model(texts).squeeze(1)  # Ensure outputs have the same shape as labels\n",
    "        preds = torch.round(torch.sigmoid(outputs)).cpu().numpy()\n",
    "        test_preds.extend(preds)\n",
    "        test_labels.extend(labels.cpu().numpy())\n",
    "\n",
    "    test_acc = accuracy_score(test_labels, test_preds)\n",
    "    print(f\"Test Accuracy: {test_acc}\")"
   ],
   "metadata": {
    "collapsed": false,
    "ExecuteTime": {
     "start_time": "2025-01-16T17:16:55.166357Z"
    }
   },
   "id": "4a7cea4927f290b6"
  },
  {
   "cell_type": "code",
   "execution_count": null,
   "outputs": [],
   "source": [],
   "metadata": {
    "collapsed": false,
    "ExecuteTime": {
     "start_time": "2025-01-16T17:16:55.168354800Z"
    }
   },
   "id": "4af4acbff0fcbe64"
  }
 ],
 "metadata": {
  "kernelspec": {
   "display_name": "Python 3",
   "language": "python",
   "name": "python3"
  },
  "language_info": {
   "codemirror_mode": {
    "name": "ipython",
    "version": 2
   },
   "file_extension": ".py",
   "mimetype": "text/x-python",
   "name": "python",
   "nbconvert_exporter": "python",
   "pygments_lexer": "ipython2",
   "version": "2.7.6"
  }
 },
 "nbformat": 4,
 "nbformat_minor": 5
}
