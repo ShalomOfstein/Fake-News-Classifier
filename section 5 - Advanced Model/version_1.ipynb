{
 "cells": [
  {
   "metadata": {},
   "cell_type": "markdown",
   "source": [
    "# LSTM for Text Classification with Attention\n",
    "In this notebook, we will implement an LSTM model with attention for text classification using PyTorch."
   ],
   "id": "88e1a635b3b44dd3"
  },
  {
   "metadata": {},
   "cell_type": "markdown",
   "source": "## Step 1: Import Libraries",
   "id": "eec9c792eaaa9dda"
  },
  {
   "metadata": {},
   "cell_type": "code",
   "outputs": [],
   "execution_count": null,
   "source": [
    "# Import Libraries\n",
    "import numpy as np\n",
    "import pandas as pd\n",
    "import torch\n",
    "from torch import nn\n",
    "from torch.utils.data import Dataset, DataLoader\n",
    "from sklearn.model_selection import train_test_split\n",
    "from sklearn.metrics import accuracy_score, precision_score, recall_score, f1_score\n",
    "from gensim.models import KeyedVectors"
   ],
   "id": "27d732a134161302"
  },
  {
   "metadata": {},
   "cell_type": "code",
   "outputs": [],
   "execution_count": null,
   "source": [
    "# Check if GPU is available\n",
    "device = torch.device(\"cuda\" if torch.cuda.is_available() else \"cpu\")\n",
    "print(f\"Using device: {device}\")"
   ],
   "id": "2bedc7096802a5f9"
  },
  {
   "metadata": {},
   "cell_type": "markdown",
   "source": [
    "## Step 2: Load and Preprocess the Dataset\n",
    "Here, we\n",
    "load\n",
    "the\n",
    "dataset\n",
    "from the CSV"
   ],
   "id": "79448ddca0a5ddee"
  },
  {
   "metadata": {},
   "cell_type": "code",
   "outputs": [],
   "execution_count": null,
   "source": [
    "# Load the preprocessed data from CSV files\n",
    "train_data = pd.read_csv(\"train.csv\")\n",
    "val_data = pd.read_csv(\"val.csv\")\n",
    "test_data = pd.read_csv(\"test.csv\")\n",
    "X_train = train_data['text']\n",
    "y_train = train_data['label']\n",
    "\n",
    "X_val = val_data['text']\n",
    "y_val = val_data['label']\n",
    "\n",
    "X_test = test_data['text']\n",
    "y_test = test_data['label']"
   ],
   "id": "1ef3d06b2f81b385"
  },
  {
   "metadata": {},
   "cell_type": "markdown",
   "source": [
    "## Step 3: Load Pre-trained Word2Vec Embeddings\n",
    "We\n",
    "use\n",
    "pre - trained\n",
    "Word2Vec\n",
    "embeddings\n",
    "to\n",
    "represent\n",
    "words as dense\n",
    "vectors.\n",
    "These\n",
    "embeddings\n",
    "improve\n",
    "the\n",
    "performance\n",
    "of\n",
    "the\n",
    "model\n",
    "by\n",
    "leveraging\n",
    "semantic\n",
    "relationships\n",
    "between\n",
    "words."
   ],
   "id": "e5dd9824838ade3f"
  },
  {
   "metadata": {},
   "cell_type": "code",
   "outputs": [],
   "execution_count": null,
   "source": [
    "# Load pre-trained Word2Vec model\n",
    "word2vec = KeyedVectors.load_word2vec_format(\"GoogleNews-vectors-negative300.bin.gz\", binary=True)"
   ],
   "id": "8ac71a86ae44865"
  },
  {
   "metadata": {},
   "cell_type": "code",
   "outputs": [],
   "execution_count": null,
   "source": [
    "# Create a vocabulary\n",
    "embedding_dim = 300\n",
    "vocab = {\"<PAD>\": 0, \"<UNK>\": 1}  # Special tokens\n",
    "embedding_matrix = [np.zeros(embedding_dim),\n",
    "                    np.random.uniform(-0.01, 0.01, embedding_dim)]  # Initialize <PAD> and <UNK>"
   ],
   "id": "b95116f6e75b8b0"
  },
  {
   "metadata": {},
   "cell_type": "code",
   "outputs": [],
   "execution_count": null,
   "source": [
    "# Build vocabulary from Word2Vec\n",
    "for text in X_train:\n",
    "    for word in text.split():\n",
    "        if word not in vocab and word in word2vec:\n",
    "            vocab[word] = len(vocab)\n",
    "            embedding_matrix.append(word2vec[word])\n",
    "\n",
    "embedding_matrix = np.array(embedding_matrix)\n",
    "vocab_size = len(vocab)\n",
    "\n",
    "print(f\"Vocabulary size: {vocab_size}\")"
   ],
   "id": "c2ae0037de08de09"
  },
  {
   "metadata": {},
   "cell_type": "markdown",
   "source": [
    "## Step 4: Tokenize and Pad Sequences\n",
    "Convert\n",
    "the\n",
    "text\n",
    "into\n",
    "sequences\n",
    "of\n",
    "integers\n",
    "based\n",
    "on\n",
    "the\n",
    "vocabulary.\n",
    "We\n",
    "also\n",
    "pad\n",
    "sequences\n",
    "to\n",
    "ensure\n",
    "they\n",
    "all\n",
    "have\n",
    "the\n",
    "same\n",
    "length\n",
    "for batch processing.\n"
   ],
   "id": "33178396f2444a9f"
  },
  {
   "metadata": {},
   "cell_type": "code",
   "outputs": [],
   "execution_count": null,
   "source": [
    "# Tokenize and convert text to sequences\n",
    "def text_to_sequence(text, vocab, max_len=200):\n",
    "    sequence = [vocab.get(word, vocab[\"<UNK>\"]) for word in text.split()]\n",
    "    if len(sequence) < max_len:\n",
    "        sequence.extend([vocab[\"<PAD>\"]] * (max_len - len(sequence)))\n",
    "    return sequence[:max_len]"
   ],
   "id": "8bf22d16ace3dbe7"
  },
  {
   "metadata": {},
   "cell_type": "code",
   "outputs": [],
   "execution_count": null,
   "source": [
    "# Apply tokenization\n",
    "max_len = 200\n",
    "X_train_seq = [text_to_sequence(text, vocab, max_len) for text in X_train]\n",
    "X_val_seq = [text_to_sequence(text, vocab, max_len) for text in X_val]\n",
    "X_test_seq = [text_to_sequence(text, vocab, max_len) for text in X_test]"
   ],
   "id": "34b34919d807bb2c"
  },
  {
   "metadata": {},
   "cell_type": "markdown",
   "source": [
    "\n",
    "## Step 5: Create a Dataset and DataLoader\n",
    "We define a custom Dataset class to handle our data and create DataLoader objects to efficiently load data during training and validation."
   ],
   "id": "90c1d1222933fa73"
  },
  {
   "metadata": {},
   "cell_type": "code",
   "outputs": [],
   "execution_count": null,
   "source": [
    "# Custom Dataset Class\n",
    "class TextDataset(Dataset):\n",
    "    def __init__(self, texts, labels):\n",
    "        self.texts = torch.tensor(texts, dtype=torch.long)\n",
    "        self.labels = torch.tensor(labels.values, dtype=torch.float32)\n",
    "\n",
    "    def __len__(self):\n",
    "        return len(self.labels)\n",
    "\n",
    "    def __getitem__(self, idx):\n",
    "        return self.texts[idx], self.labels[idx]\n"
   ],
   "id": "44ba5c46d0042112"
  },
  {
   "metadata": {},
   "cell_type": "code",
   "outputs": [],
   "execution_count": null,
   "source": [
    "# Create Dataset and DataLoader\n",
    "batch_size = 32\n",
    "train_dataset = TextDataset(X_train_seq, y_train)\n",
    "val_dataset = TextDataset(X_val_seq, y_val)\n",
    "test_dataset = TextDataset(X_test_seq, y_test)\n",
    "\n",
    "train_loader = DataLoader(train_dataset, batch_size=batch_size, shuffle=True)\n",
    "val_loader = DataLoader(val_dataset, batch_size=batch_size)\n",
    "test_loader = DataLoader(test_dataset, batch_size=batch_size)"
   ],
   "id": "84d933e467176ea2"
  },
  {
   "metadata": {},
   "cell_type": "markdown",
   "source": [
    "## Step 6: Define the LSTM Model\n",
    "The\n",
    "model\n",
    "consists\n",
    "of\n",
    "an\n",
    "embedding\n",
    "layer\n",
    "initialized\n",
    "with Word2Vec embeddings,\n",
    "followed\n",
    "by\n",
    "an\n",
    "LSTM\n",
    "layer, and a\n",
    "fully\n",
    "connected\n",
    "output\n",
    "layer.\n"
   ],
   "id": "f1b0efe4b1e5b619"
  },
  {
   "metadata": {},
   "cell_type": "code",
   "outputs": [],
   "execution_count": null,
   "source": [
    "# Define LSTM Classifier\n",
    "class AdvancedLSTMClassifier(nn.Module):\n",
    "    def __init__(self, embedding_matrix, hidden_dim, output_dim, attention=True):\n",
    "        super(AdvancedLSTMClassifier, self).__init__()\n",
    "        # Embedding layer initialized with pre-trained Word2Vec embeddings\n",
    "        self.embedding = nn.Embedding.from_pretrained(torch.tensor(embedding_matrix, dtype=torch.float32), freeze=False)\n",
    "\n",
    "        # Bidirectional LSTM\n",
    "        self.lstm = nn.LSTM(input_size=embedding_matrix.shape[1], hidden_size=hidden_dim,\n",
    "                            batch_first=True, bidirectional=True)\n",
    "\n",
    "        # Attention mechanism (optional)\n",
    "        self.attention = attention\n",
    "        if attention:\n",
    "            self.attention_weights = nn.Linear(2 * hidden_dim, 1)  # Compute attention scores\n",
    "\n",
    "        # Dropout for regularization\n",
    "        self.dropout = nn.Dropout(0.5)\n",
    "\n",
    "        # Fully connected layers\n",
    "        self.fc1 = nn.Linear(2 * hidden_dim, 128)  # First dense layer\n",
    "        self.fc2 = nn.Linear(128, output_dim)  # Second dense layer\n",
    "        self.sigmoid = nn.Sigmoid()  # Output layer for binary classification\n",
    "\n",
    "    def forward(self, x):\n",
    "        # Step 1: Embedding layer\n",
    "        x = self.embedding(x)\n",
    "\n",
    "        # Step 2: Bidirectional LSTM\n",
    "        lstm_out, _ = self.lstm(x)  # lstm_out shape: [batch_size, seq_len, 2 * hidden_dim]\n",
    "\n",
    "        # Step 3: Attention mechanism (if enabled)\n",
    "        if self.attention:\n",
    "            attention_scores = self.attention_weights(lstm_out).squeeze(-1)  # [batch_size, seq_len]\n",
    "            attention_weights = torch.softmax(attention_scores, dim=1)  # Normalize scores\n",
    "            x = torch.bmm(attention_weights.unsqueeze(1), lstm_out).squeeze(1)  # Weighted sum of LSTM outputs\n",
    "        else:\n",
    "            x = lstm_out[:, -1, :]  # Use the last hidden state if no attention\n",
    "\n",
    "        # Step 4: Fully connected layers\n",
    "        x = self.dropout(x)  # Apply dropout\n",
    "        x = torch.relu(self.fc1(x))  # First dense layer with ReLU activation\n",
    "        x = self.dropout(x)  # Apply dropout\n",
    "        x = self.fc2(x)  # Second dense layer\n",
    "\n",
    "        # Step 5: Output layer\n",
    "        return self.sigmoid(x)\n"
   ],
   "id": "e5ac70c8905531b5"
  },
  {
   "metadata": {},
   "cell_type": "code",
   "outputs": [],
   "execution_count": null,
   "source": [
    "hidden_dim = 128\n",
    "output_dim = 1\n",
    "model = AdvancedLSTMClassifier(embedding_matrix, hidden_dim, output_dim, attention=True).to(device)"
   ],
   "id": "bd455a3003b42fb0"
  },
  {
   "metadata": {},
   "cell_type": "code",
   "outputs": [],
   "execution_count": null,
   "source": [
    "# Define loss and optimizer\n",
    "criterion = nn.BCELoss()\n",
    "optimizer = torch.optim.Adam(model.parameters(), lr=0.001)"
   ],
   "id": "d3df76a969ce6941"
  },
  {
   "metadata": {},
   "cell_type": "markdown",
   "source": [
    "## Step 7: Train the Model\n",
    "Train\n",
    "the\n",
    "model\n",
    "for multiple epochs and validate its performance on the validation set."
   ],
   "id": "73391ebe858af10d"
  },
  {
   "metadata": {},
   "cell_type": "code",
   "outputs": [],
   "execution_count": null,
   "source": [
    "    \n",
    "# Training Loop\n",
    "epochs = 10\n",
    "for epoch in range(epochs):\n",
    "    model.train()\n",
    "    total_loss = 0\n",
    "    for texts, labels in train_loader:\n",
    "        texts, labels = texts.to(device), labels.to(device)\n",
    "\n",
    "        optimizer.zero_grad()\n",
    "\n",
    "        # Forward pass\n",
    "        predictions = model(texts).squeeze(1)  # Ensure predictions have shape [batch_size]\n",
    "\n",
    "        # Compute loss\n",
    "        loss = criterion(predictions, labels)\n",
    "\n",
    "        # Backpropagation\n",
    "        loss.backward()\n",
    "        optimizer.step()\n",
    "\n",
    "        total_loss += loss.item()\n",
    "\n",
    "    print(f\"Epoch {epoch + 1}/{epochs}, Loss: {total_loss / len(train_loader):.4f}\")\n"
   ],
   "id": "c90a9c11525a94f6"
  },
  {
   "metadata": {},
   "cell_type": "code",
   "outputs": [],
   "execution_count": null,
   "source": [
    "    # Validation step\n",
    "    model.eval()\n",
    "    with torch.no_grad():\n",
    "        val_predictions, val_labels = [], []\n",
    "        for texts, labels in val_loader:\n",
    "            texts, labels = texts.to(device), labels.to(device)\n",
    "            predictions = model(texts).squeeze(1)  # Ensure predictions have shape [batch_size]\n",
    "            val_predictions.extend(predictions.cpu().numpy())\n",
    "            val_labels.extend(labels.cpu().numpy())\n",
    "\n",
    "    val_predictions = np.round(val_predictions)\n",
    "    accuracy = accuracy_score(val_labels, val_predictions)\n",
    "    print(f\"Validation Accuracy: {accuracy:.4f}\")"
   ],
   "id": "31902fba8f820450"
  },
  {
   "metadata": {},
   "cell_type": "markdown",
   "source": [
    "## Step 8: Test the Model\n",
    "Evaluate\n",
    "the\n",
    "model\n",
    "'s performance on the unseen test set."
   ],
   "id": "36adc2830f8f8876"
  },
  {
   "metadata": {},
   "cell_type": "code",
   "outputs": [],
   "execution_count": null,
   "source": [
    "# Test the model\n",
    "model.eval()\n",
    "with torch.no_grad():\n",
    "    test_predictions, test_labels = [], []\n",
    "    for texts, labels in test_loader:\n",
    "        texts, labels = texts.to(device), labels.to(device)\n",
    "        predictions = model(texts).squeeze()\n",
    "        test_predictions.extend(predictions.cpu().numpy())\n",
    "        test_labels.extend(labels.cpu().numpy())\n",
    "\n",
    "test_predictions = np.round(test_predictions)\n",
    "test_accuracy = accuracy_score(test_labels, test_predictions)\n",
    "test_precision = precision_score(test_labels, test_predictions)\n",
    "test_recall = recall_score(test_labels, test_predictions)\n",
    "test_f1 = f1_score(test_labels, test_predictions)\n",
    "\n",
    "print(f\"Test Accuracy: {test_accuracy:.4f}\")\n",
    "print(f\"Test Precision: {test_precision:.4f}\")\n",
    "print(f\"Test Recall: {test_recall:.4f}\")\n",
    "print(f\"Test F1 Score: {test_f1:.4f}\")\n"
   ],
   "id": "3dbed6bb6c9fa6f"
  },
  {
   "metadata": {},
   "cell_type": "markdown",
   "source": "# Save the model",
   "id": "4ff2a65cf0baa72a"
  },
  {
   "metadata": {},
   "cell_type": "code",
   "outputs": [],
   "execution_count": null,
   "source": "torch.save(model.state_dict(), \"lstm_model_v1.pth\")\n",
   "id": "d307d067266d02a0"
  }
 ],
 "metadata": {
  "kernelspec": {
   "display_name": "Python 3",
   "language": "python",
   "name": "python3"
  },
  "language_info": {
   "codemirror_mode": {
    "name": "ipython",
    "version": 2
   },
   "file_extension": ".py",
   "mimetype": "text/x-python",
   "name": "python",
   "nbconvert_exporter": "python",
   "pygments_lexer": "ipython2",
   "version": "2.7.6"
  }
 },
 "nbformat": 4,
 "nbformat_minor": 5
}
