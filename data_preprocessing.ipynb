{
 "cells": [
  {
   "cell_type": "markdown",
   "id": "9510b63ade3fef3c",
   "metadata": {},
   "source": [
    "data_preprocessing.py"
   ]
  },
  {
   "cell_type": "markdown",
   "id": "7987ddc86023af08",
   "metadata": {},
   "source": [
    "# Import necessary libraries\n"
   ]
  },
  {
   "cell_type": "code",
   "execution_count": 1,
   "id": "1cd8cdc7b8e135a6",
   "metadata": {
    "ExecuteTime": {
     "end_time": "2025-01-16T20:23:34.912447900Z",
     "start_time": "2025-01-16T20:23:34.821919900Z"
    }
   },
   "outputs": [],
   "source": [
    "import pandas as pd"
   ]
  },
  {
   "cell_type": "markdown",
   "id": "bdc338b56ac9dcf4",
   "metadata": {},
   "source": [
    "# Load the datasets"
   ]
  },
  {
   "cell_type": "code",
   "execution_count": 2,
   "id": "ec790828d6644460",
   "metadata": {
    "ExecuteTime": {
     "end_time": "2025-01-16T20:23:37.835641Z",
     "start_time": "2025-01-16T20:23:34.844453Z"
    }
   },
   "outputs": [],
   "source": [
    "fake_path = \"data/fake.csv\"\n",
    "true_path = \"data/true.csv\"\n",
    "WELF_dataset_path = \"data/WELFake_Dataset.csv\"\n",
    "\n",
    "fake_df = pd.read_csv(fake_path)\n",
    "true_df = pd.read_csv(true_path)\n",
    "WELF_dataset = pd.read_csv(WELF_dataset_path)"
   ]
  },
  {
   "cell_type": "markdown",
   "id": "7e647984c7d24244",
   "metadata": {},
   "source": [
    "# Add label column: Fake = 1, True = 0"
   ]
  },
  {
   "cell_type": "code",
   "execution_count": 3,
   "id": "6c4bb2850d5d9d95",
   "metadata": {
    "ExecuteTime": {
     "end_time": "2025-01-16T20:23:37.847727200Z",
     "start_time": "2025-01-16T20:23:37.836642400Z"
    }
   },
   "outputs": [],
   "source": [
    "fake_df['label'] = 1\n",
    "true_df['label'] = 0"
   ]
  },
  {
   "cell_type": "markdown",
   "id": "a054786a1500b2f",
   "metadata": {
    "collapsed": false
   },
   "source": [
    "# Remove documents that dont have a text from the WELF dataset"
   ]
  },
  {
   "cell_type": "code",
   "execution_count": 4,
   "id": "25e169b32eed9cf5",
   "metadata": {
    "ExecuteTime": {
     "end_time": "2025-01-16T20:23:37.888115500Z",
     "start_time": "2025-01-16T20:23:37.853699400Z"
    },
    "collapsed": false
   },
   "outputs": [],
   "source": [
    "WELF_dataset = WELF_dataset.dropna(subset=['text'])"
   ]
  },
  {
   "cell_type": "markdown",
   "id": "ad071e61e8c8254f",
   "metadata": {
    "collapsed": false
   },
   "source": [
    "# Leave only the title and text and label columns"
   ]
  },
  {
   "cell_type": "code",
   "execution_count": 5,
   "id": "d7fbf08bd73bdf9d",
   "metadata": {
    "ExecuteTime": {
     "end_time": "2025-01-16T20:23:37.900875500Z",
     "start_time": "2025-01-16T20:23:37.879111400Z"
    },
    "collapsed": false
   },
   "outputs": [],
   "source": [
    "fake_df = fake_df[['title', 'text', 'label']]\n",
    "true_df = true_df[['title', 'text', 'label']]\n",
    "WELF_dataset = WELF_dataset[['title', 'text', 'label']]"
   ]
  },
  {
   "cell_type": "markdown",
   "id": "774cbdbb0e6ec32a",
   "metadata": {},
   "source": [
    "# Combine datasets"
   ]
  },
  {
   "cell_type": "code",
   "execution_count": 6,
   "id": "4bdeb2ea62e4fa39",
   "metadata": {
    "ExecuteTime": {
     "end_time": "2025-01-16T20:23:37.914435600Z",
     "start_time": "2025-01-16T20:23:37.897874200Z"
    }
   },
   "outputs": [],
   "source": [
    "df = pd.concat([fake_df, true_df,WELF_dataset], axis=0).reset_index(drop=True)"
   ]
  },
  {
   "cell_type": "markdown",
   "id": "54a04d438354b635",
   "metadata": {},
   "source": [
    "# Step 1: Data Exploration"
   ]
  },
  {
   "cell_type": "code",
   "execution_count": 7,
   "id": "6dcbdf7a3d5ad687",
   "metadata": {
    "ExecuteTime": {
     "end_time": "2025-01-16T20:23:37.965879800Z",
     "start_time": "2025-01-16T20:23:37.913434300Z"
    }
   },
   "outputs": [
    {
     "name": "stdout",
     "output_type": "stream",
     "text": [
      "Dataset Overview:\n",
      "                                               title  \\\n",
      "0   Donald Trump Sends Out Embarrassing New Year’...   \n",
      "1   Drunk Bragging Trump Staffer Started Russian ...   \n",
      "2   Sheriff David Clarke Becomes An Internet Joke...   \n",
      "3   Trump Is So Obsessed He Even Has Obama’s Name...   \n",
      "4   Pope Francis Just Called Out Donald Trump Dur...   \n",
      "\n",
      "                                                text  label  \n",
      "0  Donald Trump just couldn t wish all Americans ...      1  \n",
      "1  House Intelligence Committee Chairman Devin Nu...      1  \n",
      "2  On Friday, it was revealed that former Milwauk...      1  \n",
      "3  On Christmas day, Donald Trump announced that ...      1  \n",
      "4  Pope Francis used his annual Christmas Day mes...      1  \n"
     ]
    }
   ],
   "source": [
    "print(\"Dataset Overview:\")\n",
    "print(df.head())"
   ]
  },
  {
   "cell_type": "code",
   "execution_count": 8,
   "id": "6e67bd890fd57076",
   "metadata": {
    "ExecuteTime": {
     "end_time": "2025-01-16T20:23:37.966866400Z",
     "start_time": "2025-01-16T20:23:37.921889500Z"
    }
   },
   "outputs": [
    {
     "name": "stdout",
     "output_type": "stream",
     "text": [
      "\n",
      "Class Distribution:\n",
      "label\n",
      "1    60548\n",
      "0    56445\n",
      "Name: count, dtype: int64\n"
     ]
    }
   ],
   "source": [
    "print(\"\\nClass Distribution:\")\n",
    "print(df['label'].value_counts())"
   ]
  },
  {
   "cell_type": "code",
   "execution_count": 9,
   "id": "c14e0113ab097afc",
   "metadata": {
    "ExecuteTime": {
     "end_time": "2025-01-16T20:23:37.967869200Z",
     "start_time": "2025-01-16T20:23:37.934870Z"
    }
   },
   "outputs": [
    {
     "name": "stdout",
     "output_type": "stream",
     "text": [
      "\n",
      "Missing Values:\n",
      "title    558\n",
      "text       0\n",
      "label      0\n",
      "dtype: int64\n"
     ]
    }
   ],
   "source": [
    "# Check for missing values\n",
    "print(\"\\nMissing Values:\")\n",
    "print(df.isnull().sum())"
   ]
  },
  {
   "cell_type": "code",
   "execution_count": 10,
   "id": "7344a731c01c486a",
   "metadata": {
    "ExecuteTime": {
     "end_time": "2025-01-16T20:23:37.967869200Z",
     "start_time": "2025-01-16T20:23:37.956465900Z"
    }
   },
   "outputs": [
    {
     "name": "stdout",
     "output_type": "stream",
     "text": [
      "                                                    title  \\\n",
      "116983  An Unlikely Contender Rises in France as the A...   \n",
      "116984  WOW! JILL STEIN’S ‘FIRESIDE CHAT’ Exposes Her ...   \n",
      "116985  Determined to kill: Can tough gun laws end mas...   \n",
      "116986  WIKILEAKS EMAIL SHOWS CLINTON FOUNDATION FUNDS...   \n",
      "116987  JUDGE JEANINE SOUNDS FREE SPEECH ALARM: “They ...   \n",
      "116988  Russians steal research on Trump in hack of U....   \n",
      "116989   WATCH: Giuliani Demands That Democrats Apolog...   \n",
      "116990  Migrants Refuse To Leave Train At Refugee Camp...   \n",
      "116991  Trump tussle gives unpopular Mexican leader mu...   \n",
      "116992  Goldman Sachs Endorses Hillary Clinton For Pre...   \n",
      "\n",
      "                                                     text  label  \n",
      "116983  PARIS  —   In the age of Donald J. Trump, “Bre...      0  \n",
      "116984                                                         1  \n",
      "116985  The flag at Desert Hot Springs' Condor Gun Sho...      0  \n",
      "116986  An email released by WikiLeaks on Sunday appea...      1  \n",
      "116987  Judge Jeanine lets it rip! She s concerned wit...      1  \n",
      "116988  WASHINGTON (Reuters) - Hackers believed to be ...      0  \n",
      "116989  You know, because in fantasyland Republicans n...      1  \n",
      "116990  Migrants Refuse To Leave Train At Refugee Camp...      0  \n",
      "116991  MEXICO CITY (Reuters) - Donald Trump’s combati...      0  \n",
      "116992  Goldman Sachs Endorses Hillary Clinton For Pre...      1  \n"
     ]
    }
   ],
   "source": [
    "print(df.tail(10))"
   ]
  },
  {
   "cell_type": "code",
   "execution_count": 11,
   "id": "a094810b2bff3f4",
   "metadata": {
    "ExecuteTime": {
     "end_time": "2025-01-16T20:23:38.220845300Z",
     "start_time": "2025-01-16T20:23:37.964863200Z"
    }
   },
   "outputs": [
    {
     "name": "stdout",
     "output_type": "stream",
     "text": [
      "                                                    title  \\\n",
      "116983  An Unlikely Contender Rises in France as the A...   \n",
      "116984  WOW! JILL STEIN’S ‘FIRESIDE CHAT’ Exposes Her ...   \n",
      "116985  Determined to kill: Can tough gun laws end mas...   \n",
      "116986  WIKILEAKS EMAIL SHOWS CLINTON FOUNDATION FUNDS...   \n",
      "116987  JUDGE JEANINE SOUNDS FREE SPEECH ALARM: “They ...   \n",
      "116988  Russians steal research on Trump in hack of U....   \n",
      "116989   WATCH: Giuliani Demands That Democrats Apolog...   \n",
      "116990  Migrants Refuse To Leave Train At Refugee Camp...   \n",
      "116991  Trump tussle gives unpopular Mexican leader mu...   \n",
      "116992  Goldman Sachs Endorses Hillary Clinton For Pre...   \n",
      "\n",
      "                                                     text  label  \n",
      "116983  PARIS  —   In the age of Donald J. Trump, “Bre...      0  \n",
      "116984                                                         1  \n",
      "116985  The flag at Desert Hot Springs' Condor Gun Sho...      0  \n",
      "116986  An email released by WikiLeaks on Sunday appea...      1  \n",
      "116987  Judge Jeanine lets it rip! She s concerned wit...      1  \n",
      "116988  Hackers believed to be working for the Russian...      0  \n",
      "116989  You know, because in fantasyland Republicans n...      1  \n",
      "116990  Migrants Refuse To Leave Train At Refugee Camp...      0  \n",
      "116991  Donald Trump’s combative style has buffeted Me...      0  \n",
      "116992  Goldman Sachs Endorses Hillary Clinton For Pre...      1  \n"
     ]
    }
   ],
   "source": [
    "# Remove the specific word or phrase \"(Reuters)\" from the text column\n",
    "df['text'] = df['text'].str.replace(r'^[^(]*\\(Reuters\\)\\s*-\\s*', '', regex=True)\n",
    "print(df.tail(10))"
   ]
  },
  {
   "cell_type": "markdown",
   "id": "6056b2ff122874b3",
   "metadata": {},
   "source": [
    "# Step 2: Data Cleaning"
   ]
  },
  {
   "cell_type": "code",
   "execution_count": 12,
   "id": "8a11ea654bcbaa5b",
   "metadata": {
    "ExecuteTime": {
     "end_time": "2025-01-16T20:23:39.063586700Z",
     "start_time": "2025-01-16T20:23:38.249379400Z"
    }
   },
   "outputs": [],
   "source": [
    "df = df.drop_duplicates()\n",
    "\n",
    "# Fill missing text with an empty string and convert to lowercase\n",
    "df['text'] = df['text'].fillna('')"
   ]
  },
  {
   "cell_type": "code",
   "execution_count": 13,
   "id": "8d8d5755e50274d6",
   "metadata": {
    "ExecuteTime": {
     "end_time": "2025-01-16T20:23:39.071679100Z",
     "start_time": "2025-01-16T20:23:39.063586700Z"
    }
   },
   "outputs": [],
   "source": [
    "# Optional: Remove punctuation and stopwords (example with nltk)\n",
    "# from nltk.corpus import stopwords\n",
    "# from nltk.tokenize import word_tokenize\n",
    "# import string\n",
    "# stop_words = set(stopwords.words('english'))\n",
    "# df['text'] = df['text'].apply(lambda x: ' '.join(\n",
    "#     [word for word in word_tokenize(x) if word not in stop_words and word not in string.punctuation]\n",
    "# ))\n"
   ]
  },
  {
   "cell_type": "markdown",
   "id": "d0217c2805227ab3",
   "metadata": {},
   "source": [
    "# Step 3: Train-Test Split\n",
    "train - 70%, validation - 15%, test - 15%\n"
   ]
  },
  {
   "cell_type": "code",
   "execution_count": 14,
   "id": "9e7b2a0ec4b36c34",
   "metadata": {
    "ExecuteTime": {
     "end_time": "2025-01-16T20:24:46.979334100Z",
     "start_time": "2025-01-16T20:24:46.920811Z"
    }
   },
   "outputs": [],
   "source": [
    "from sklearn.model_selection import train_test_split\n",
    "\n",
    "train_data, test_data = train_test_split(df, test_size=0.15, random_state=42, stratify=df['label'])\n",
    "train_data, val_data = train_test_split(train_data, test_size=0.1765, random_state=42, stratify=train_data['label'])"
   ]
  },
  {
   "cell_type": "code",
   "execution_count": 15,
   "id": "76fb33c6d0fc62a9",
   "metadata": {
    "ExecuteTime": {
     "end_time": "2025-01-16T20:24:47.382416700Z",
     "start_time": "2025-01-16T20:24:47.379184500Z"
    }
   },
   "outputs": [
    {
     "name": "stdout",
     "output_type": "stream",
     "text": [
      "\n",
      "Train size: 44545, Validation size: 9548, Test size: 9546\n"
     ]
    }
   ],
   "source": [
    "# Check the sizes\n",
    "print(f\"\\nTrain size: {len(train_data)}, Validation size: {len(val_data)}, Test size: {len(test_data)}\")"
   ]
  },
  {
   "cell_type": "code",
   "execution_count": 16,
   "id": "e8ba44d4af8ca0de",
   "metadata": {
    "ExecuteTime": {
     "end_time": "2025-01-16T20:24:55.322621700Z",
     "start_time": "2025-01-16T20:24:52.295962400Z"
    }
   },
   "outputs": [],
   "source": [
    "# Save the splits\n",
    "train_data.to_csv(\"train.csv\", index=False)\n",
    "val_data.to_csv(\"val.csv\", index=False)\n",
    "test_data.to_csv(\"test.csv\", index=False)"
   ]
  }
 ],
 "metadata": {
  "kernelspec": {
   "display_name": "venv",
   "language": "python",
   "name": "python3"
  },
  "language_info": {
   "codemirror_mode": {
    "name": "ipython",
    "version": 3
   },
   "file_extension": ".py",
   "mimetype": "text/x-python",
   "name": "python",
   "nbconvert_exporter": "python",
   "pygments_lexer": "ipython3",
   "version": "3.11.4"
  }
 },
 "nbformat": 4,
 "nbformat_minor": 5
}
