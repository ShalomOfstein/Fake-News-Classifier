{
 "cells": [
  {
   "metadata": {},
   "cell_type": "markdown",
   "source": "data_preprocessing.py",
   "id": "9510b63ade3fef3c"
  },
  {
   "metadata": {},
   "cell_type": "markdown",
   "source": "# Import necessary libraries\n",
   "id": "7987ddc86023af08"
  },
  {
   "metadata": {
    "ExecuteTime": {
     "end_time": "2025-01-06T18:15:48.586030Z",
     "start_time": "2025-01-06T18:15:48.166314Z"
    }
   },
   "cell_type": "code",
   "source": [
    "\n",
    "import pandas as pd\n",
    "import numpy as np"
   ],
   "id": "1cd8cdc7b8e135a6",
   "outputs": [],
   "execution_count": 1
  },
  {
   "metadata": {},
   "cell_type": "markdown",
   "source": "# Load the datasets",
   "id": "bdc338b56ac9dcf4"
  },
  {
   "metadata": {
    "ExecuteTime": {
     "end_time": "2025-01-06T18:16:42.320314Z",
     "start_time": "2025-01-06T18:16:40.764037Z"
    }
   },
   "cell_type": "code",
   "source": [
    "fake_path = \"data/original_data/fake.csv\"\n",
    "true_path = \"data/original_data/true.csv\"\n",
    "\n",
    "fake_df = pd.read_csv(fake_path)\n",
    "true_df = pd.read_csv(true_path)"
   ],
   "id": "ec790828d6644460",
   "outputs": [],
   "execution_count": 3
  },
  {
   "metadata": {},
   "cell_type": "markdown",
   "source": "# Add label column: Fake = 1, True = 0",
   "id": "7e647984c7d24244"
  },
  {
   "metadata": {
    "ExecuteTime": {
     "end_time": "2025-01-06T18:16:49.567004Z",
     "start_time": "2025-01-06T18:16:49.556416Z"
    }
   },
   "cell_type": "code",
   "source": [
    "fake_df['label'] = 1\n",
    "true_df['label'] = 0"
   ],
   "id": "6c4bb2850d5d9d95",
   "outputs": [],
   "execution_count": 4
  },
  {
   "metadata": {},
   "cell_type": "markdown",
   "source": "# Combine datasets",
   "id": "774cbdbb0e6ec32a"
  },
  {
   "metadata": {
    "ExecuteTime": {
     "end_time": "2025-01-06T18:16:54.708648Z",
     "start_time": "2025-01-06T18:16:54.694249Z"
    }
   },
   "cell_type": "code",
   "source": "df = pd.concat([fake_df, true_df], axis=0).reset_index(drop=True)",
   "id": "4bdeb2ea62e4fa39",
   "outputs": [],
   "execution_count": 5
  },
  {
   "metadata": {},
   "cell_type": "markdown",
   "source": "# Step 1: Data Exploration",
   "id": "54a04d438354b635"
  },
  {
   "metadata": {
    "ExecuteTime": {
     "end_time": "2025-01-06T18:17:20.051268Z",
     "start_time": "2025-01-06T18:17:20.042442Z"
    }
   },
   "cell_type": "code",
   "source": [
    "print(\"Dataset Overview:\")\n",
    "print(df.head())"
   ],
   "id": "6dcbdf7a3d5ad687",
   "outputs": [
    {
     "name": "stdout",
     "output_type": "stream",
     "text": [
      "Dataset Overview:\n",
      "                                               title  \\\n",
      "0   Donald Trump Sends Out Embarrassing New Year’...   \n",
      "1   Drunk Bragging Trump Staffer Started Russian ...   \n",
      "2   Sheriff David Clarke Becomes An Internet Joke...   \n",
      "3   Trump Is So Obsessed He Even Has Obama’s Name...   \n",
      "4   Pope Francis Just Called Out Donald Trump Dur...   \n",
      "\n",
      "                                                text subject  \\\n",
      "0  Donald Trump just couldn t wish all Americans ...    News   \n",
      "1  House Intelligence Committee Chairman Devin Nu...    News   \n",
      "2  On Friday, it was revealed that former Milwauk...    News   \n",
      "3  On Christmas day, Donald Trump announced that ...    News   \n",
      "4  Pope Francis used his annual Christmas Day mes...    News   \n",
      "\n",
      "                date  label  \n",
      "0  December 31, 2017      1  \n",
      "1  December 31, 2017      1  \n",
      "2  December 30, 2017      1  \n",
      "3  December 29, 2017      1  \n",
      "4  December 25, 2017      1  \n"
     ]
    }
   ],
   "execution_count": 6
  },
  {
   "metadata": {
    "ExecuteTime": {
     "end_time": "2025-01-06T18:17:56.837564Z",
     "start_time": "2025-01-06T18:17:56.829638Z"
    }
   },
   "cell_type": "code",
   "source": [
    "print(\"\\nClass Distribution:\")\n",
    "print(df['label'].value_counts())"
   ],
   "id": "6e67bd890fd57076",
   "outputs": [
    {
     "name": "stdout",
     "output_type": "stream",
     "text": [
      "\n",
      "Class Distribution:\n",
      "label\n",
      "1    23481\n",
      "0    21417\n",
      "Name: count, dtype: int64\n"
     ]
    }
   ],
   "execution_count": 7
  },
  {
   "metadata": {
    "ExecuteTime": {
     "end_time": "2025-01-06T18:18:03.347129Z",
     "start_time": "2025-01-06T18:18:03.323861Z"
    }
   },
   "cell_type": "code",
   "source": [
    "# Check for missing values\n",
    "print(\"\\nMissing Values:\")\n",
    "print(df.isnull().sum())"
   ],
   "id": "c14e0113ab097afc",
   "outputs": [
    {
     "name": "stdout",
     "output_type": "stream",
     "text": [
      "\n",
      "Missing Values:\n",
      "title      0\n",
      "text       0\n",
      "subject    0\n",
      "date       0\n",
      "label      0\n",
      "dtype: int64\n"
     ]
    }
   ],
   "execution_count": 8
  },
  {
   "metadata": {
    "ExecuteTime": {
     "end_time": "2025-01-06T18:18:44.116930Z",
     "start_time": "2025-01-06T18:18:44.106816Z"
    }
   },
   "cell_type": "code",
   "source": "print(df.tail(10))",
   "id": "7344a731c01c486a",
   "outputs": [
    {
     "name": "stdout",
     "output_type": "stream",
     "text": [
      "                                                   title  \\\n",
      "44888  Mata Pires, owner of embattled Brazil builder ...   \n",
      "44889  U.S., North Korea clash at U.N. forum over nuc...   \n",
      "44890  U.S., North Korea clash at U.N. arms forum on ...   \n",
      "44891  Headless torso could belong to submarine journ...   \n",
      "44892  North Korea shipments to Syria chemical arms a...   \n",
      "44893  'Fully committed' NATO backs new U.S. approach...   \n",
      "44894  LexisNexis withdrew two products from Chinese ...   \n",
      "44895  Minsk cultural hub becomes haven from authorities   \n",
      "44896  Vatican upbeat on possibility of Pope Francis ...   \n",
      "44897  Indonesia to buy $1.14 billion worth of Russia...   \n",
      "\n",
      "                                                    text    subject  \\\n",
      "44888  SAO PAULO (Reuters) - Cesar Mata Pires, the ow...  worldnews   \n",
      "44889  GENEVA (Reuters) - North Korea and the United ...  worldnews   \n",
      "44890  GENEVA (Reuters) - North Korea and the United ...  worldnews   \n",
      "44891  COPENHAGEN (Reuters) - Danish police said on T...  worldnews   \n",
      "44892  UNITED NATIONS (Reuters) - Two North Korean sh...  worldnews   \n",
      "44893  BRUSSELS (Reuters) - NATO allies on Tuesday we...  worldnews   \n",
      "44894  LONDON (Reuters) - LexisNexis, a provider of l...  worldnews   \n",
      "44895  MINSK (Reuters) - In the shadow of disused Sov...  worldnews   \n",
      "44896  MOSCOW (Reuters) - Vatican Secretary of State ...  worldnews   \n",
      "44897  JAKARTA (Reuters) - Indonesia will buy 11 Sukh...  worldnews   \n",
      "\n",
      "                   date  label  \n",
      "44888  August 22, 2017       0  \n",
      "44889  August 22, 2017       0  \n",
      "44890  August 22, 2017       0  \n",
      "44891  August 22, 2017       0  \n",
      "44892  August 21, 2017       0  \n",
      "44893  August 22, 2017       0  \n",
      "44894  August 22, 2017       0  \n",
      "44895  August 22, 2017       0  \n",
      "44896  August 22, 2017       0  \n",
      "44897  August 22, 2017       0  \n"
     ]
    }
   ],
   "execution_count": 9
  },
  {
   "metadata": {
    "ExecuteTime": {
     "end_time": "2025-01-06T20:02:03.008871Z",
     "start_time": "2025-01-06T20:02:02.809198Z"
    }
   },
   "cell_type": "code",
   "source": [
    "# Remove the specific word or phrase \"(Reuters)\" from the text column\n",
    "df['text'] = df['text'].str.replace(r'^[A-Za-z\\s]+ - ', '', regex=True)\n",
    "print(df.tail(10))"
   ],
   "id": "a094810b2bff3f4",
   "outputs": [
    {
     "name": "stdout",
     "output_type": "stream",
     "text": [
      "                                                   title  \\\n",
      "44888  Mata Pires, owner of embattled Brazil builder ...   \n",
      "44889  U.S., North Korea clash at U.N. forum over nuc...   \n",
      "44890  U.S., North Korea clash at U.N. arms forum on ...   \n",
      "44891  Headless torso could belong to submarine journ...   \n",
      "44892  North Korea shipments to Syria chemical arms a...   \n",
      "44893  'Fully committed' NATO backs new U.S. approach...   \n",
      "44894  LexisNexis withdrew two products from Chinese ...   \n",
      "44895  Minsk cultural hub becomes haven from authorities   \n",
      "44896  Vatican upbeat on possibility of Pope Francis ...   \n",
      "44897  Indonesia to buy $1.14 billion worth of Russia...   \n",
      "\n",
      "                                                    text    subject  \\\n",
      "44888  Cesar Mata Pires, the owner and co-founder of ...  worldnews   \n",
      "44889  North Korea and the United States clashed at a...  worldnews   \n",
      "44890  North Korea and the United States accused each...  worldnews   \n",
      "44891  Danish police said on Tuesday the size of a he...  worldnews   \n",
      "44892  Two North Korean shipments to a Syrian governm...  worldnews   \n",
      "44893  NATO allies on Tuesday welcomed President Dona...  worldnews   \n",
      "44894  LexisNexis, a provider of legal, regulatory an...  worldnews   \n",
      "44895  In the shadow of disused Soviet-era factories ...  worldnews   \n",
      "44896  Vatican Secretary of State Cardinal Pietro Par...  worldnews   \n",
      "44897  Indonesia will buy 11 Sukhoi fighter jets wort...  worldnews   \n",
      "\n",
      "                   date  label  \n",
      "44888  August 22, 2017       0  \n",
      "44889  August 22, 2017       0  \n",
      "44890  August 22, 2017       0  \n",
      "44891  August 22, 2017       0  \n",
      "44892  August 21, 2017       0  \n",
      "44893  August 22, 2017       0  \n",
      "44894  August 22, 2017       0  \n",
      "44895  August 22, 2017       0  \n",
      "44896  August 22, 2017       0  \n",
      "44897  August 22, 2017       0  \n"
     ]
    }
   ],
   "execution_count": 16
  },
  {
   "metadata": {},
   "cell_type": "markdown",
   "source": "# Step 2: Data Cleaning",
   "id": "6056b2ff122874b3"
  },
  {
   "metadata": {},
   "cell_type": "code",
   "outputs": [],
   "execution_count": null,
   "source": [
    "df = df.drop_duplicates()\n",
    "\n",
    "# Fill missing text with an empty string and convert to lowercase\n",
    "df['text'] = df['text'].fillna('').str.lower()"
   ],
   "id": "8a11ea654bcbaa5b"
  },
  {
   "metadata": {},
   "cell_type": "code",
   "outputs": [],
   "execution_count": null,
   "source": [
    "\n",
    "# Remove duplicates\n",
    "df = df.drop_duplicates()\n",
    "\n",
    "# Fill missing text with an empty string and convert to lowercase\n",
    "df['text'] = df['text'].fillna('').str.lower()\n",
    "\n",
    "# Optional: Remove punctuation and stopwords (example with nltk)\n",
    "# from nltk.corpus import stopwords\n",
    "# from nltk.tokenize import word_tokenize\n",
    "# import string\n",
    "# stop_words = set(stopwords.words('english'))\n",
    "# df['text'] = df['text'].apply(lambda x: ' '.join(\n",
    "#     [word for word in word_tokenize(x) if word not in stop_words and word not in string.punctuation]\n",
    "# ))\n",
    "\n",
    "# Step 3: Train-Test Split\n",
    "from sklearn.model_selection import train_test_split\n",
    "\n",
    "train_data, test_data = train_test_split(df, test_size=0.3, random_state=42, stratify=df['label'])\n",
    "train_data, val_data = train_test_split(train_data, test_size=0.2, random_state=42, stratify=train_data['label'])\n",
    "\n",
    "# Check the sizes\n",
    "print(f\"\\nTrain size: {len(train_data)}, Validation size: {len(val_data)}, Test size: {len(test_data)}\")\n",
    "\n",
    "# Save the splits (optional)\n",
    "train_data.to_csv(\"train.csv\", index=False)\n",
    "val_data.to_csv(\"val.csv\", index=False)\n",
    "test_data.to_csv(\"test.csv\", index=False)"
   ],
   "id": "76fb33c6d0fc62a9"
  }
 ],
 "metadata": {
  "kernelspec": {
   "display_name": "Python 3",
   "language": "python",
   "name": "python3"
  },
  "language_info": {
   "codemirror_mode": {
    "name": "ipython",
    "version": 2
   },
   "file_extension": ".py",
   "mimetype": "text/x-python",
   "name": "python",
   "nbconvert_exporter": "python",
   "pygments_lexer": "ipython2",
   "version": "2.7.6"
  }
 },
 "nbformat": 4,
 "nbformat_minor": 5
}
