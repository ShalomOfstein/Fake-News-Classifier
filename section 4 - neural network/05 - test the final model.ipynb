{
 "cells": [
  {
   "cell_type": "code",
   "execution_count": 1,
   "id": "45a605bb2f8da6f9",
   "metadata": {
    "collapsed": false
   },
   "outputs": [],
   "source": [
    "import numpy as np\n",
    "import pandas as pd\n",
    "import torch\n",
    "from torch import nn\n",
    "from torch.utils.data import Dataset, DataLoader\n",
    "from gensim.models import KeyedVectors\n",
    "from sklearn.metrics import accuracy_score, classification_report, precision_score, recall_score, f1_score"
   ]
  },
  {
   "cell_type": "code",
   "execution_count": 2,
   "id": "95ed82f2bfb1f9d",
   "metadata": {
    "collapsed": false
   },
   "outputs": [],
   "source": [
    "# Load the saved model and necessary components\n",
    "device = torch.device(\"cuda\" if torch.cuda.is_available() else \"cpu\")"
   ]
  },
  {
   "cell_type": "code",
   "execution_count": 3,
   "id": "a8a8a14e73c53975",
   "metadata": {
    "collapsed": false
   },
   "outputs": [],
   "source": [
    "# Specify your paths\n",
    "test_file_path = \"../test.csv\"\n",
    "train_file_path = \"../train.csv\"  # Added train file path\n",
    "model_path = \"best_mlp_model.pth\"\n",
    "word2vec_path = \"../GoogleNews-vectors-negative300.bin.gz\""
   ]
  },
  {
   "cell_type": "markdown",
   "id": "d503e861b3f73ab0",
   "metadata": {
    "collapsed": false
   },
   "source": []
  },
  {
   "cell_type": "markdown",
   "id": "e1a8bfa566ceede8",
   "metadata": {
    "collapsed": false
   },
   "source": [
    "\n",
    "### Define the model architecture (same as training)"
   ]
  },
  {
   "cell_type": "code",
   "execution_count": 4,
   "id": "c36972339a5a471c",
   "metadata": {
    "collapsed": false
   },
   "outputs": [],
   "source": [
    "class MLPModel(nn.Module):\n",
    "    def __init__(self, embedding_matrix, hidden_dims=[512, 256, 128], output_dim=1):\n",
    "        super(MLPModel, self).__init__()\n",
    "\n",
    "        # Embedding Layer with frozen weights\n",
    "        self.embedding = nn.Embedding.from_pretrained(\n",
    "            torch.tensor(embedding_matrix, dtype=torch.float32),\n",
    "            freeze=True,\n",
    "            padding_idx=0\n",
    "        )\n",
    "\n",
    "        # Calculate input dimension\n",
    "        max_len = 1000  # Same as training\n",
    "        input_dim = embedding_matrix.shape[1] * max_len\n",
    "\n",
    "        # Create list to hold all layers\n",
    "        layers = []\n",
    "\n",
    "        # Input layer\n",
    "        layers.append(nn.Linear(input_dim, hidden_dims[0]))\n",
    "        layers.append(nn.LayerNorm(hidden_dims[0]))\n",
    "        layers.append(nn.ReLU())\n",
    "        layers.append(nn.Dropout(0.5))\n",
    "\n",
    "        # Hidden layers\n",
    "        for i in range(len(hidden_dims) - 1):\n",
    "            layers.append(nn.Linear(hidden_dims[i], hidden_dims[i + 1]))\n",
    "            layers.append(nn.LayerNorm(hidden_dims[i + 1]))\n",
    "            layers.append(nn.ReLU())\n",
    "            layers.append(nn.Dropout(0.2))\n",
    "\n",
    "        # Output layer\n",
    "        layers.append(nn.Linear(hidden_dims[-1], output_dim))\n",
    "\n",
    "        # Combine all layers\n",
    "        self.model = nn.Sequential(*layers)\n",
    "\n",
    "    def forward(self, x):\n",
    "        # Get embeddings and flatten\n",
    "        embedded = self.embedding(x)\n",
    "        flattened = embedded.view(embedded.size(0), -1)\n",
    "\n",
    "        # Forward pass through all layers\n",
    "        return self.model(flattened)\n"
   ]
  },
  {
   "cell_type": "markdown",
   "id": "b25807ed6b4cf755",
   "metadata": {
    "collapsed": false
   },
   "source": [
    "### Dataset class (same as training)"
   ]
  },
  {
   "cell_type": "code",
   "execution_count": 5,
   "id": "32a430f336fe1792",
   "metadata": {
    "collapsed": false
   },
   "outputs": [],
   "source": [
    "class TextDataset(Dataset):\n",
    "    def __init__(self, texts, labels):\n",
    "        self.texts = torch.tensor(texts, dtype=torch.long)\n",
    "        self.labels = torch.tensor(labels.values, dtype=torch.float32)\n",
    "\n",
    "    def __len__(self):\n",
    "        return len(self.labels)\n",
    "\n",
    "    def __getitem__(self, idx):\n",
    "        return self.texts[idx], self.labels[idx]\n"
   ]
  },
  {
   "cell_type": "markdown",
   "id": "ca25d5824a42349b",
   "metadata": {
    "collapsed": false
   },
   "source": [
    "### load word embeddings"
   ]
  },
  {
   "cell_type": "code",
   "execution_count": 6,
   "id": "b9323243ed981ef",
   "metadata": {
    "collapsed": false
   },
   "outputs": [],
   "source": [
    "word2vec = KeyedVectors.load_word2vec_format(word2vec_path, binary=True)"
   ]
  },
  {
   "cell_type": "markdown",
   "id": "7a82ce6ddd595a75",
   "metadata": {
    "collapsed": false
   },
   "source": [
    "### create the vocabulary (same as training)"
   ]
  },
  {
   "cell_type": "code",
   "execution_count": 7,
   "id": "d38ff80d516ea26a",
   "metadata": {
    "collapsed": false
   },
   "outputs": [],
   "source": [
    "embedding_dim = 300\n",
    "vocab = {\"<PAD>\": 0, \"<UNK>\": 1}\n",
    "embedding_matrix = [np.zeros(embedding_dim), np.random.uniform(-0.01, 0.01, embedding_dim)]\n",
    "\n",
    "# Build vocabulary from training data first\n",
    "train_data = pd.read_csv(train_file_path)\n",
    "for text in train_data['text']:\n",
    "    for word in text.split():\n",
    "        if word not in vocab and word in word2vec:\n",
    "            vocab[word] = len(vocab)\n",
    "            embedding_matrix.append(word2vec[word])\n",
    "\n",
    "embedding_matrix = np.array(embedding_matrix)"
   ]
  },
  {
   "cell_type": "markdown",
   "id": "5f9b6b5309660ea6",
   "metadata": {
    "collapsed": false
   },
   "source": [
    "### Tokenize and convert text to sequences"
   ]
  },
  {
   "cell_type": "code",
   "execution_count": 8,
   "id": "34bd7b185d00381e",
   "metadata": {
    "collapsed": false
   },
   "outputs": [
    {
     "name": "stdout",
     "output_type": "stream",
     "text": [
      "Converting text to sequences...\n"
     ]
    }
   ],
   "source": [
    "test_data = pd.read_csv(test_file_path)\n",
    "X_test = test_data['text']\n",
    "y_test = test_data['label']\n",
    "\n",
    "# Tokenize and convert text to sequences\n",
    "def text_to_sequence(text, vocab, max_len=1000):\n",
    "    sequence = [vocab.get(word, vocab[\"<UNK>\"]) for word in text.split()]\n",
    "    if len(sequence) < max_len:\n",
    "        sequence.extend([vocab[\"<PAD>\"]] * (max_len - len(sequence)))\n",
    "    return sequence[:max_len]\n",
    "\n",
    "print(\"Converting text to sequences...\")\n",
    "X_test_seq = [text_to_sequence(text, vocab, 1000) for text in X_test]\n",
    "\n",
    "# Create test dataset and dataloader\n",
    "test_dataset = TextDataset(X_test_seq, y_test)\n",
    "test_loader = DataLoader(test_dataset, batch_size=32)"
   ]
  },
  {
   "cell_type": "markdown",
   "id": "4be4b01d46ad6c43",
   "metadata": {
    "collapsed": false
   },
   "source": [
    "### Load the model and evaluate on test data"
   ]
  },
  {
   "cell_type": "code",
   "execution_count": 9,
   "id": "9ae32e0dc4d18567",
   "metadata": {
    "collapsed": false
   },
   "outputs": [],
   "source": [
    "model = MLPModel(embedding_matrix).to(device)"
   ]
  },
  {
   "cell_type": "code",
   "execution_count": 10,
   "id": "19990657c969baa6",
   "metadata": {
    "collapsed": false
   },
   "outputs": [
    {
     "name": "stdout",
     "output_type": "stream",
     "text": [
      "Testing the model...\n",
      "\n",
      "Test Accuracy: 0.9436\n",
      "\n",
      "Metrics for True News (class 1):\n",
      "Precision (True News): 0.9495\n",
      "Recall (True News): 0.9473\n",
      "F1-Score (True News): 0.9484\n",
      "\n",
      "Metrics for Fake News (class 0):\n",
      "Precision (Fake News): 0.9366\n",
      "Recall (Fake News): 0.9392\n",
      "F1-Score (Fake News): 0.9379\n",
      "\n",
      "Detailed Classification Report:\n",
      "              precision    recall  f1-score   support\n",
      "\n",
      "         0.0       0.94      0.94      0.94      4327\n",
      "         1.0       0.95      0.95      0.95      5219\n",
      "\n",
      "    accuracy                           0.94      9546\n",
      "   macro avg       0.94      0.94      0.94      9546\n",
      "weighted avg       0.94      0.94      0.94      9546\n",
      "\n"
     ]
    }
   ],
   "source": [
    "# Load the state dict with safe loading\n",
    "state_dict = torch.load(model_path, weights_only=True)\n",
    "model.load_state_dict(state_dict)\n",
    "model.eval()\n",
    "\n",
    "# Test the model\n",
    "print(\"Testing the model...\")\n",
    "test_preds = []\n",
    "test_labels = []\n",
    "\n",
    "with torch.no_grad():\n",
    "    for texts, labels in test_loader:\n",
    "        texts, labels = texts.to(device), labels.to(device)\n",
    "        outputs = model(texts).squeeze(1)\n",
    "        preds = torch.round(torch.sigmoid(outputs)).cpu().numpy()\n",
    "        test_preds.extend(preds)\n",
    "        test_labels.extend(labels.cpu().numpy())\n",
    "\n",
    "# Calculate metrics\n",
    "accuracy = accuracy_score(test_labels, test_preds)\n",
    "\n",
    "# Metrics for True News (class 1)\n",
    "precision_true = precision_score(test_labels, test_preds, pos_label=1)\n",
    "recall_true = recall_score(test_labels, test_preds, pos_label=1)\n",
    "f1_true = f1_score(test_labels, test_preds, pos_label=1)\n",
    "\n",
    "# Metrics for Fake News (class 0)\n",
    "precision_fake = precision_score(test_labels, test_preds, pos_label=0)\n",
    "recall_fake = recall_score(test_labels, test_preds, pos_label=0)\n",
    "f1_fake = f1_score(test_labels, test_preds, pos_label=0)\n",
    "\n",
    "# Full classification report\n",
    "report = classification_report(test_labels, test_preds)\n",
    "\n",
    "# Print results\n",
    "print(f\"\\nTest Accuracy: {accuracy:.4f}\")\n",
    "print(\"\\nMetrics for True News (class 1):\")\n",
    "print(f\"Precision (True News): {precision_true:.4f}\")\n",
    "print(f\"Recall (True News): {recall_true:.4f}\")\n",
    "print(f\"F1-Score (True News): {f1_true:.4f}\")\n",
    "\n",
    "print(\"\\nMetrics for Fake News (class 0):\")\n",
    "print(f\"Precision (Fake News): {precision_fake:.4f}\")\n",
    "print(f\"Recall (Fake News): {recall_fake:.4f}\")\n",
    "print(f\"F1-Score (Fake News): {f1_fake:.4f}\")\n",
    "\n",
    "print(\"\\nDetailed Classification Report:\")\n",
    "print(report)"
   ]
  }
 ],
 "metadata": {
  "kernelspec": {
   "display_name": "venv",
   "language": "python",
   "name": "python3"
  },
  "language_info": {
   "codemirror_mode": {
    "name": "ipython",
    "version": 3
   },
   "file_extension": ".py",
   "mimetype": "text/x-python",
   "name": "python",
   "nbconvert_exporter": "python",
   "pygments_lexer": "ipython3",
   "version": "3.10.6"
  }
 },
 "nbformat": 4,
 "nbformat_minor": 5
}
