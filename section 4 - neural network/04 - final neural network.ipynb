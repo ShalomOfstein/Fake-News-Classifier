{
 "cells": [
  {
   "cell_type": "markdown",
   "id": "33bdfde27f1542c6",
   "metadata": {
    "collapsed": false,
    "pycharm": {
     "name": "#%% md\n"
    }
   },
   "source": [
    "## Step 1: Load the Required Libraries\n",
    "In this step, we import the necessary libraries, including PyTorch for building the model,\n",
    "and other utilities for data preprocessing, loading, and splitting."
   ]
  },
  {
   "cell_type": "code",
   "execution_count": 1,
   "id": "50344716be4f0221",
   "metadata": {
    "ExecuteTime": {
     "end_time": "2025-01-15T07:13:34.208237400Z",
     "start_time": "2025-01-15T07:13:13.312468300Z"
    },
    "collapsed": false,
    "pycharm": {
     "is_executing": true,
     "name": "#%%\n"
    }
   },
   "outputs": [],
   "source": [
    "# Import Libraries\n",
    "import numpy as np\n",
    "import pandas as pd\n",
    "import torch\n",
    "from torch import nn\n",
    "from torch.utils.data import Dataset, DataLoader\n",
    "from sklearn.metrics import accuracy_score\n",
    "from gensim.models import KeyedVectors\n",
    "import matplotlib.pyplot as plt\n",
    "import random"
   ]
  },
  {
   "cell_type": "markdown",
   "id": "e4b4598463541a6b",
   "metadata": {
    "collapsed": false,
    "pycharm": {
     "name": "#%% md\n"
    }
   },
   "source": []
  },
  {
   "cell_type": "code",
   "execution_count": 2,
   "id": "6208ab06a04806cf",
   "metadata": {
    "ExecuteTime": {
     "end_time": "2025-01-15T07:13:34.220684100Z",
     "start_time": "2025-01-15T07:13:34.210237200Z"
    },
    "collapsed": false,
    "pycharm": {
     "name": "#%%\n"
    }
   },
   "outputs": [
    {
     "name": "stdout",
     "output_type": "stream",
     "text": [
      "Using device: cuda\n"
     ]
    }
   ],
   "source": [
    "# Check if GPU is available\n",
    "device = torch.device(\"cuda\" if torch.cuda.is_available() else \"cpu\")\n",
    "print(f\"Using device: {device}\")"
   ]
  },
  {
   "cell_type": "markdown",
   "id": "5deed5f18d2a6425",
   "metadata": {
    "collapsed": false,
    "pycharm": {
     "name": "#%% md\n"
    }
   },
   "source": [
    "## Step 2: Load and Preprocess the Dataset\n",
    "Here, we load the dataset from the CSV files and preprocess it for training the model.\n"
   ]
  },
  {
   "cell_type": "code",
   "execution_count": 3,
   "id": "initial_id",
   "metadata": {
    "ExecuteTime": {
     "end_time": "2025-01-15T07:13:36.283583100Z",
     "start_time": "2025-01-15T07:13:34.216683700Z"
    },
    "pycharm": {
     "name": "#%%\n"
    }
   },
   "outputs": [],
   "source": [
    "# Load the preprocessed data from CSV files\n",
    "train_data = pd.read_csv(\"../train.csv\")\n",
    "val_data = pd.read_csv(\"../val.csv\")\n",
    "test_data = pd.read_csv(\"../test.csv\")\n",
    "\n",
    "X_train = train_data['text']\n",
    "y_train = train_data['label']\n",
    "\n",
    "X_val = val_data['text']\n",
    "y_val = val_data['label']\n",
    "\n",
    "X_test = test_data['text']\n",
    "y_test = test_data['label']"
   ]
  },
  {
   "cell_type": "markdown",
   "id": "88ec74b5c796343c",
   "metadata": {
    "collapsed": false,
    "pycharm": {
     "name": "#%% md\n"
    }
   },
   "source": [
    "## Step 3: Load Pre-trained Word2Vec Embeddings\n",
    "We use pre-trained Word2Vec embeddings to represent words as dense vectors.\n",
    "These embeddings improve the performance of the model by leveraging semantic relationships between words."
   ]
  },
  {
   "cell_type": "code",
   "execution_count": 4,
   "id": "fec26f2549a31896",
   "metadata": {
    "ExecuteTime": {
     "end_time": "2025-01-15T07:14:23.719438Z",
     "start_time": "2025-01-15T07:13:36.290561800Z"
    },
    "collapsed": false,
    "pycharm": {
     "name": "#%%\n"
    }
   },
   "outputs": [],
   "source": [
    "# Load pre-trained Word2Vec model\n",
    "word2vec = KeyedVectors.load_word2vec_format(\"../GoogleNews-vectors-negative300.bin.gz\", binary=True)"
   ]
  },
  {
   "cell_type": "code",
   "execution_count": 5,
   "id": "a330f9e5d96c4b5a",
   "metadata": {
    "ExecuteTime": {
     "end_time": "2025-01-15T07:14:23.738853100Z",
     "start_time": "2025-01-15T07:14:23.721348100Z"
    },
    "collapsed": false,
    "pycharm": {
     "name": "#%%\n"
    }
   },
   "outputs": [],
   "source": [
    "# Create a vocabulary\n",
    "embedding_dim = 300\n",
    "vocab = {\"<PAD>\": 0, \"<UNK>\": 1}  # Special tokens\n",
    "embedding_matrix = [np.zeros(embedding_dim), np.random.uniform(-0.01, 0.01, embedding_dim)]  # Initialize <PAD> and <UNK>"
   ]
  },
  {
   "cell_type": "code",
   "execution_count": 6,
   "id": "bd9faee07f3ddc27",
   "metadata": {
    "ExecuteTime": {
     "end_time": "2025-01-15T07:14:27.600276Z",
     "start_time": "2025-01-15T07:14:23.740808500Z"
    },
    "collapsed": false,
    "pycharm": {
     "name": "#%%\n"
    }
   },
   "outputs": [
    {
     "name": "stdout",
     "output_type": "stream",
     "text": [
      "Vocabulary size: 128232\n"
     ]
    }
   ],
   "source": [
    "# Build vocabulary from Word2Vec\n",
    "for text in X_train:\n",
    "    for word in text.split():\n",
    "        if word not in vocab and word in word2vec:\n",
    "            vocab[word] = len(vocab)\n",
    "            embedding_matrix.append(word2vec[word])\n",
    "\n",
    "embedding_matrix = np.array(embedding_matrix)\n",
    "vocab_size = len(vocab)\n",
    "\n",
    "print(f\"Vocabulary size: {vocab_size}\")"
   ]
  },
  {
   "cell_type": "markdown",
   "id": "df38d9eec78e73f5",
   "metadata": {
    "collapsed": false,
    "pycharm": {
     "name": "#%% md\n"
    }
   },
   "source": [
    "#$ Step 4: Tokenize and Pad Sequences\n",
    "Convert the text into sequences of integers based on the vocabulary. We also pad sequences to ensure they all have the same length for batch processing."
   ]
  },
  {
   "cell_type": "code",
   "execution_count": 7,
   "id": "30f6dee9a41649a5",
   "metadata": {
    "ExecuteTime": {
     "end_time": "2025-01-15T07:14:31.944931700Z",
     "start_time": "2025-01-15T07:14:27.665280300Z"
    },
    "collapsed": false,
    "pycharm": {
     "name": "#%%\n"
    }
   },
   "outputs": [],
   "source": [
    "# Tokenize and convert text to sequences\n",
    "def text_to_sequence(text, vocab, max_len=1000):\n",
    "    sequence = [vocab.get(word, vocab[\"<UNK>\"]) for word in text.split()]\n",
    "    if len(sequence) < max_len:\n",
    "        sequence.extend([vocab[\"<PAD>\"]] * (max_len - len(sequence)))\n",
    "    return sequence[:max_len]\n",
    "\n",
    "# Apply tokenization\n",
    "max_len = 1000\n",
    "X_train_seq = [text_to_sequence(text, vocab, max_len) for text in X_train]\n",
    "X_val_seq = [text_to_sequence(text, vocab, max_len) for text in X_val]\n",
    "X_test_seq = [text_to_sequence(text, vocab, max_len) for text in X_test]"
   ]
  },
  {
   "cell_type": "markdown",
   "id": "58bdcacd0bfa149a",
   "metadata": {
    "collapsed": false,
    "pycharm": {
     "name": "#%% md\n"
    }
   },
   "source": [
    "## Step 5: Create a Dataset and DataLoader\n",
    "We define a custom Dataset class to handle our data and create DataLoader objects\n",
    "to efficiently load data during training and validation."
   ]
  },
  {
   "cell_type": "code",
   "execution_count": 8,
   "id": "d808fcaa1d2b07c",
   "metadata": {
    "ExecuteTime": {
     "end_time": "2025-01-15T07:14:31.956799Z",
     "start_time": "2025-01-15T07:14:31.951889400Z"
    },
    "collapsed": false,
    "pycharm": {
     "name": "#%%\n"
    }
   },
   "outputs": [],
   "source": [
    "# Custom Dataset Class\n",
    "class TextDataset(Dataset):\n",
    "    def __init__(self, texts, labels, is_training=False):\n",
    "        self.texts = torch.tensor(texts, dtype=torch.long)\n",
    "        self.labels = torch.tensor(labels.values, dtype=torch.float32)\n",
    "        self.is_training = is_training\n",
    "        \n",
    "    def __len__(self):\n",
    "        return len(self.labels)\n",
    "        \n",
    "    def __getitem__(self, idx):\n",
    "        if self.is_training:\n",
    "            # Get the original sequence\n",
    "            sequence = self.texts[idx].tolist()  # Convert tensor to list\n",
    "            # Remove padding tokens for augmentation\n",
    "            sequence = [x for x in sequence if x != vocab[\"<PAD>\"]]\n",
    "            # Augment\n",
    "            if len(sequence) > 0:  # Only augment if we have tokens\n",
    "                sequence = [x for x in sequence if random.random() > 0.2]\n",
    "            # Re-pad the sequence\n",
    "            if len(sequence) < max_len:\n",
    "                sequence.extend([vocab[\"<PAD>\"]] * (max_len - len(sequence)))\n",
    "            sequence = sequence[:max_len]\n",
    "            # Convert back to tensor\n",
    "            text = torch.tensor(sequence, dtype=torch.long)\n",
    "        else:\n",
    "            text = self.texts[idx]\n",
    "            \n",
    "        return text, self.labels[idx]"
   ]
  },
  {
   "cell_type": "code",
   "execution_count": 9,
   "id": "bbd8254a9c8d28ec",
   "metadata": {
    "ExecuteTime": {
     "end_time": "2025-01-15T07:14:32.638978100Z",
     "start_time": "2025-01-15T07:14:31.957796500Z"
    },
    "collapsed": false,
    "pycharm": {
     "name": "#%%\n"
    }
   },
   "outputs": [],
   "source": [
    "# Create Dataset and DataLoader\n",
    "train_dataset = TextDataset(X_train_seq, y_train, is_training=True)\n",
    "val_dataset = TextDataset(X_val_seq, y_val, is_training=False)\n",
    "test_dataset = TextDataset(X_test_seq, y_test, is_training=False)"
   ]
  },
  {
   "cell_type": "markdown",
   "id": "84d278bafdd53198",
   "metadata": {
    "collapsed": false,
    "pycharm": {
     "name": "#%% md\n"
    }
   },
   "source": [
    "## Step 6: Define the MLP Model\n",
    "The model consists of an embedding layer initialized with Word2Vec embeddings,\n",
    "followed by an layers, and a fully connected output layer."
   ]
  },
  {
   "cell_type": "code",
   "execution_count": 10,
   "id": "fe62ddba4cbd31a0",
   "metadata": {
    "ExecuteTime": {
     "end_time": "2025-01-15T07:14:32.651555900Z",
     "start_time": "2025-01-15T07:14:32.644978700Z"
    },
    "collapsed": false,
    "pycharm": {
     "name": "#%%\n"
    }
   },
   "outputs": [],
   "source": [
    "class MLPModel(nn.Module):\n",
    "    def __init__(self, embedding_matrix, hidden_dims=[512, 256, 128], output_dim=1):\n",
    "        super(MLPModel, self).__init__()\n",
    "        \n",
    "        # Embedding Layer with frozen weights\n",
    "        self.embedding = nn.Embedding.from_pretrained(\n",
    "            torch.tensor(embedding_matrix, dtype=torch.float32),\n",
    "            freeze=True,\n",
    "            padding_idx=0\n",
    "        )\n",
    "        \n",
    "        # Calculate input dimension\n",
    "        input_dim = embedding_matrix.shape[1] * max_len\n",
    "        \n",
    "        # Create list to hold all layers\n",
    "        layers = []\n",
    "        \n",
    "        # Input layer\n",
    "        layers.append(nn.Linear(input_dim, hidden_dims[0]))\n",
    "        layers.append(nn.LayerNorm(hidden_dims[0]))\n",
    "        layers.append(nn.ReLU())\n",
    "        layers.append(nn.Dropout(0.5))\n",
    "        \n",
    "        # Hidden layers\n",
    "        for i in range(len(hidden_dims)-1):\n",
    "            layers.append(nn.Linear(hidden_dims[i], hidden_dims[i+1]))\n",
    "            layers.append(nn.LayerNorm(hidden_dims[i+1]))\n",
    "            layers.append(nn.ReLU())\n",
    "            layers.append(nn.Dropout(0.2))\n",
    "        \n",
    "        # Output layer\n",
    "        layers.append(nn.Linear(hidden_dims[-1], output_dim))\n",
    "        \n",
    "        # Combine all layers\n",
    "        self.model = nn.Sequential(*layers)\n",
    "        \n",
    "    def forward(self, x):\n",
    "        # Get embeddings and flatten\n",
    "        embedded = self.embedding(x)\n",
    "        flattened = embedded.view(embedded.size(0), -1)\n",
    "        \n",
    "        # Forward pass through all layers\n",
    "        return self.model(flattened)"
   ]
  },
  {
   "cell_type": "markdown",
   "id": "9fd337492427a405",
   "metadata": {
    "collapsed": false,
    "pycharm": {
     "name": "#%% md\n"
    }
   },
   "source": [
    "## Step 7: Train the Model\n",
    "Train the model for multiple epochs and validate its performance on the validation set."
   ]
  },
  {
   "cell_type": "code",
   "execution_count": 11,
   "id": "92f9c91de8288107",
   "metadata": {
    "ExecuteTime": {
     "end_time": "2025-01-15T07:14:32.699061300Z",
     "start_time": "2025-01-15T07:14:32.663545900Z"
    },
    "collapsed": false,
    "pycharm": {
     "name": "#%%\n"
    }
   },
   "outputs": [],
   "source": [
    "def train_model(model, train_loader, val_loader, epochs=15, learning_rate=1e-4):\n",
    "    num_pos = sum(y_train == 1)\n",
    "    num_neg = sum(y_train == 0)\n",
    "    pos_weight = torch.tensor([num_neg / num_pos]).to(device)\n",
    "    criterion = nn.BCEWithLogitsLoss(pos_weight=pos_weight)\n",
    "\n",
    "    optimizer = torch.optim.AdamW(\n",
    "        model.parameters(),\n",
    "        lr=learning_rate,\n",
    "        weight_decay=0.1\n",
    "    )\n",
    "    \n",
    "    scheduler = torch.optim.lr_scheduler.ReduceLROnPlateau(\n",
    "        optimizer,\n",
    "        mode='max',\n",
    "        factor=0.5,\n",
    "        patience=2,\n",
    "        verbose=True\n",
    "    )\n",
    "    \n",
    "    best_model_state = None\n",
    "    best_val_loss = float('inf')\n",
    "    patience = 4\n",
    "    patience_counter = 0\n",
    "    loss_validation_values = []\n",
    "    loss_training_values = []\n",
    "    \n",
    "    acc_validation_values = []\n",
    "    acc_training_values = []\n",
    "    \n",
    "    num_warmup_steps = 100\n",
    "    def get_lr(step):\n",
    "        if step < num_warmup_steps:\n",
    "            return learning_rate * (step / num_warmup_steps)\n",
    "        return learning_rate\n",
    "    \n",
    "    for epoch in range(epochs):\n",
    "        # Training phase\n",
    "        model.train()\n",
    "        total_loss = 0\n",
    "        correct = 0\n",
    "        total = 0\n",
    "        \n",
    "        for i, (texts, labels) in enumerate(train_loader):\n",
    "            current_lr = get_lr(epoch * len(train_loader) + i)\n",
    "            for param_group in optimizer.param_groups:\n",
    "                param_group['lr'] = current_lr\n",
    "            \n",
    "            texts = texts.to(device)\n",
    "            # Ensure labels are float and proper shape\n",
    "            labels = labels.float().to(device)\n",
    "            \n",
    "            optimizer.zero_grad()\n",
    "            \n",
    "            # Forward pass and ensure output shape matches labels\n",
    "            outputs = model(texts).squeeze(-1)\n",
    "            \n",
    "            # Ensure shapes match\n",
    "            if len(outputs.shape) == 0:\n",
    "                outputs = outputs.unsqueeze(0)\n",
    "            if len(labels.shape) == 0:\n",
    "                labels = labels.unsqueeze(0)\n",
    "                \n",
    "            loss = criterion(outputs, labels)\n",
    "            loss.backward()\n",
    "            \n",
    "            torch.nn.utils.clip_grad_norm_(model.parameters(), max_norm=1.0)\n",
    "            optimizer.step()\n",
    "            \n",
    "            predicted = torch.round(torch.sigmoid(outputs))\n",
    "            total += labels.size(0)\n",
    "            correct += (predicted == labels).sum().item()\n",
    "            \n",
    "            total_loss += loss.item()\n",
    "            \n",
    "            if i % 100 == 0:\n",
    "                print(f'Epoch: {epoch}, Batch: {i}, Loss: {loss.item():.4f}')\n",
    "        \n",
    "        train_acc = correct / total\n",
    "        avg_loss = total_loss / len(train_loader)\n",
    "        loss_training_values.append(avg_loss)\n",
    "        \n",
    "        # Validation phase\n",
    "        val_loss, val_acc = evaluate_model(model, val_loader, criterion)\n",
    "        loss_validation_values.append(val_loss)\n",
    "        \n",
    "        print(f'Epoch: {epoch}')\n",
    "        print(f'Average Loss: {avg_loss:.4f}')\n",
    "        print(f'Training Accuracy: {train_acc:.4f}')\n",
    "        print(f'Validation Loss: {val_loss:.4f}')\n",
    "        print(f'Validation Accuracy: {val_acc:.4f}')\n",
    "        \n",
    "        acc_training_values.append(train_acc)\n",
    "        acc_validation_values.append(val_acc)\n",
    "        \n",
    "        scheduler.step(val_acc)\n",
    "        \n",
    "        if val_loss < best_val_loss:\n",
    "            best_val_loss = val_loss\n",
    "            best_model_state = model.state_dict().copy()\n",
    "            patience_counter = 0\n",
    "            torch.save(best_model_state, 'best_mlp_model.pth') \n",
    "        else:\n",
    "            patience_counter += 1\n",
    "            \n",
    "        if patience_counter >= patience:\n",
    "            print('Early stopping triggered')\n",
    "            # Restore best model\n",
    "            model.load_state_dict(best_model_state)\n",
    "            break\n",
    "\n",
    "    return loss_training_values, loss_validation_values, acc_training_values, acc_validation_values\n",
    "\n",
    "def evaluate_model(model, data_loader, criterion):\n",
    "    model.eval()\n",
    "    correct = 0\n",
    "    total = 0\n",
    "    total_loss = 0\n",
    "\n",
    "    with torch.no_grad():\n",
    "        for texts, labels in data_loader:\n",
    "            texts = texts.to(device)\n",
    "            labels = labels.float().to(device)\n",
    "\n",
    "            outputs = model(texts).squeeze(-1)\n",
    "\n",
    "            if len(outputs.shape) == 0:\n",
    "                outputs = outputs.unsqueeze(0)\n",
    "            if len(labels.shape) == 0:\n",
    "                labels = labels.unsqueeze(0)\n",
    "\n",
    "            loss = criterion(outputs, labels)\n",
    "            total_loss += loss.item()\n",
    "\n",
    "            predicted = torch.round(torch.sigmoid(outputs))\n",
    "            total += labels.size(0)\n",
    "            correct += (predicted == labels).sum().item()\n",
    "\n",
    "    avg_loss = total_loss / len(data_loader)\n",
    "    accuracy = correct / total\n",
    "    return avg_loss, accuracy"
   ]
  },
  {
   "cell_type": "code",
   "execution_count": 12,
   "id": "ca8f2a80031117b",
   "metadata": {
    "ExecuteTime": {
     "end_time": "2025-01-15T07:15:52.109639500Z",
     "start_time": "2025-01-15T07:14:32.672449Z"
    },
    "collapsed": false,
    "pycharm": {
     "name": "#%%\n"
    }
   },
   "outputs": [
    {
     "name": "stderr",
     "output_type": "stream",
     "text": [
      "c:\\Users\\dell\\OneDrive - Ariel University\\Desktop\\a\\venv\\lib\\site-packages\\torch\\optim\\lr_scheduler.py:62: UserWarning: The verbose parameter is deprecated. Please use get_last_lr() to access the learning rate.\n",
      "  warnings.warn(\n"
     ]
    },
    {
     "name": "stdout",
     "output_type": "stream",
     "text": [
      "Epoch: 0, Batch: 0, Loss: 0.7329\n",
      "Epoch: 0, Batch: 100, Loss: 0.4203\n",
      "Epoch: 0, Batch: 200, Loss: 0.4811\n",
      "Epoch: 0, Batch: 300, Loss: 0.4392\n",
      "Epoch: 0, Batch: 400, Loss: 0.3840\n",
      "Epoch: 0, Batch: 500, Loss: 0.2389\n",
      "Epoch: 0, Batch: 600, Loss: 0.2791\n",
      "Epoch: 0, Batch: 700, Loss: 0.5135\n",
      "Epoch: 0, Batch: 800, Loss: 0.3159\n",
      "Epoch: 0, Batch: 900, Loss: 0.2452\n",
      "Epoch: 0, Batch: 1000, Loss: 0.3661\n",
      "Epoch: 0, Batch: 1100, Loss: 0.2875\n",
      "Epoch: 0, Batch: 1200, Loss: 0.1733\n",
      "Epoch: 0, Batch: 1300, Loss: 0.2837\n",
      "Epoch: 0\n",
      "Average Loss: 0.2996\n",
      "Training Accuracy: 0.8602\n",
      "Validation Loss: 0.2172\n",
      "Validation Accuracy: 0.9048\n",
      "Epoch: 1, Batch: 0, Loss: 0.2616\n",
      "Epoch: 1, Batch: 100, Loss: 0.2768\n",
      "Epoch: 1, Batch: 200, Loss: 0.1518\n",
      "Epoch: 1, Batch: 300, Loss: 0.2887\n",
      "Epoch: 1, Batch: 400, Loss: 0.1805\n",
      "Epoch: 1, Batch: 500, Loss: 0.3102\n",
      "Epoch: 1, Batch: 600, Loss: 0.3037\n",
      "Epoch: 1, Batch: 700, Loss: 0.1086\n",
      "Epoch: 1, Batch: 800, Loss: 0.2535\n",
      "Epoch: 1, Batch: 900, Loss: 0.2387\n",
      "Epoch: 1, Batch: 1000, Loss: 0.3091\n",
      "Epoch: 1, Batch: 1100, Loss: 0.1845\n",
      "Epoch: 1, Batch: 1200, Loss: 0.0486\n",
      "Epoch: 1, Batch: 1300, Loss: 0.0527\n",
      "Epoch: 1\n",
      "Average Loss: 0.2180\n",
      "Training Accuracy: 0.9057\n",
      "Validation Loss: 0.1970\n",
      "Validation Accuracy: 0.9161\n",
      "Epoch: 2, Batch: 0, Loss: 0.0687\n",
      "Epoch: 2, Batch: 100, Loss: 0.0541\n",
      "Epoch: 2, Batch: 200, Loss: 0.2137\n",
      "Epoch: 2, Batch: 300, Loss: 0.1149\n",
      "Epoch: 2, Batch: 400, Loss: 0.0776\n",
      "Epoch: 2, Batch: 500, Loss: 0.3199\n",
      "Epoch: 2, Batch: 600, Loss: 0.2184\n",
      "Epoch: 2, Batch: 700, Loss: 0.1052\n",
      "Epoch: 2, Batch: 800, Loss: 0.3802\n",
      "Epoch: 2, Batch: 900, Loss: 0.1335\n",
      "Epoch: 2, Batch: 1000, Loss: 0.3355\n",
      "Epoch: 2, Batch: 1100, Loss: 0.1825\n",
      "Epoch: 2, Batch: 1200, Loss: 0.1621\n",
      "Epoch: 2, Batch: 1300, Loss: 0.2500\n",
      "Epoch: 2\n",
      "Average Loss: 0.1919\n",
      "Training Accuracy: 0.9176\n",
      "Validation Loss: 0.1842\n",
      "Validation Accuracy: 0.9218\n",
      "Epoch: 3, Batch: 0, Loss: 0.0590\n",
      "Epoch: 3, Batch: 100, Loss: 0.2240\n",
      "Epoch: 3, Batch: 200, Loss: 0.0573\n",
      "Epoch: 3, Batch: 300, Loss: 0.2147\n",
      "Epoch: 3, Batch: 400, Loss: 0.1748\n",
      "Epoch: 3, Batch: 500, Loss: 0.1509\n",
      "Epoch: 3, Batch: 600, Loss: 0.3337\n",
      "Epoch: 3, Batch: 700, Loss: 0.0797\n",
      "Epoch: 3, Batch: 800, Loss: 0.1446\n",
      "Epoch: 3, Batch: 900, Loss: 0.1455\n",
      "Epoch: 3, Batch: 1000, Loss: 0.1301\n",
      "Epoch: 3, Batch: 1100, Loss: 0.1246\n",
      "Epoch: 3, Batch: 1200, Loss: 0.1829\n",
      "Epoch: 3, Batch: 1300, Loss: 0.1609\n",
      "Epoch: 3\n",
      "Average Loss: 0.1709\n",
      "Training Accuracy: 0.9277\n",
      "Validation Loss: 0.1823\n",
      "Validation Accuracy: 0.9278\n",
      "Epoch: 4, Batch: 0, Loss: 0.0706\n",
      "Epoch: 4, Batch: 100, Loss: 0.0529\n",
      "Epoch: 4, Batch: 200, Loss: 0.2296\n",
      "Epoch: 4, Batch: 300, Loss: 0.2063\n",
      "Epoch: 4, Batch: 400, Loss: 0.2256\n",
      "Epoch: 4, Batch: 500, Loss: 0.1268\n",
      "Epoch: 4, Batch: 600, Loss: 0.1452\n",
      "Epoch: 4, Batch: 700, Loss: 0.1735\n",
      "Epoch: 4, Batch: 800, Loss: 0.1888\n",
      "Epoch: 4, Batch: 900, Loss: 0.0853\n",
      "Epoch: 4, Batch: 1000, Loss: 0.0790\n",
      "Epoch: 4, Batch: 1100, Loss: 0.0540\n",
      "Epoch: 4, Batch: 1200, Loss: 0.1891\n",
      "Epoch: 4, Batch: 1300, Loss: 0.1433\n",
      "Epoch: 4\n",
      "Average Loss: 0.1608\n",
      "Training Accuracy: 0.9317\n",
      "Validation Loss: 0.1656\n",
      "Validation Accuracy: 0.9302\n",
      "Epoch: 5, Batch: 0, Loss: 0.1283\n",
      "Epoch: 5, Batch: 100, Loss: 0.2869\n",
      "Epoch: 5, Batch: 200, Loss: 0.2410\n",
      "Epoch: 5, Batch: 300, Loss: 0.3268\n",
      "Epoch: 5, Batch: 400, Loss: 0.2441\n",
      "Epoch: 5, Batch: 500, Loss: 0.1567\n",
      "Epoch: 5, Batch: 600, Loss: 0.2163\n",
      "Epoch: 5, Batch: 700, Loss: 0.0865\n",
      "Epoch: 5, Batch: 800, Loss: 0.1163\n",
      "Epoch: 5, Batch: 900, Loss: 0.0366\n",
      "Epoch: 5, Batch: 1000, Loss: 0.0878\n",
      "Epoch: 5, Batch: 1100, Loss: 0.1226\n",
      "Epoch: 5, Batch: 1200, Loss: 0.0287\n",
      "Epoch: 5, Batch: 1300, Loss: 0.0443\n",
      "Epoch: 5\n",
      "Average Loss: 0.1493\n",
      "Training Accuracy: 0.9355\n",
      "Validation Loss: 0.1563\n",
      "Validation Accuracy: 0.9335\n",
      "Epoch: 6, Batch: 0, Loss: 0.1220\n",
      "Epoch: 6, Batch: 100, Loss: 0.1665\n",
      "Epoch: 6, Batch: 200, Loss: 0.1324\n",
      "Epoch: 6, Batch: 300, Loss: 0.1587\n",
      "Epoch: 6, Batch: 400, Loss: 0.2582\n",
      "Epoch: 6, Batch: 500, Loss: 0.1076\n",
      "Epoch: 6, Batch: 600, Loss: 0.1746\n",
      "Epoch: 6, Batch: 700, Loss: 0.2037\n",
      "Epoch: 6, Batch: 800, Loss: 0.1464\n",
      "Epoch: 6, Batch: 900, Loss: 0.0403\n",
      "Epoch: 6, Batch: 1000, Loss: 0.0688\n",
      "Epoch: 6, Batch: 1100, Loss: 0.1787\n",
      "Epoch: 6, Batch: 1200, Loss: 0.2042\n",
      "Epoch: 6, Batch: 1300, Loss: 0.1810\n",
      "Epoch: 6\n",
      "Average Loss: 0.1404\n",
      "Training Accuracy: 0.9420\n",
      "Validation Loss: 0.1570\n",
      "Validation Accuracy: 0.9378\n",
      "Epoch: 7, Batch: 0, Loss: 0.0590\n",
      "Epoch: 7, Batch: 100, Loss: 0.0200\n",
      "Epoch: 7, Batch: 200, Loss: 0.0584\n",
      "Epoch: 7, Batch: 300, Loss: 0.1827\n",
      "Epoch: 7, Batch: 400, Loss: 0.1169\n",
      "Epoch: 7, Batch: 500, Loss: 0.0265\n",
      "Epoch: 7, Batch: 600, Loss: 0.3727\n",
      "Epoch: 7, Batch: 700, Loss: 0.1752\n",
      "Epoch: 7, Batch: 800, Loss: 0.0746\n",
      "Epoch: 7, Batch: 900, Loss: 0.0745\n",
      "Epoch: 7, Batch: 1000, Loss: 0.0914\n",
      "Epoch: 7, Batch: 1100, Loss: 0.1446\n",
      "Epoch: 7, Batch: 1200, Loss: 0.0726\n",
      "Epoch: 7, Batch: 1300, Loss: 0.0459\n",
      "Epoch: 7\n",
      "Average Loss: 0.1302\n",
      "Training Accuracy: 0.9455\n",
      "Validation Loss: 0.1556\n",
      "Validation Accuracy: 0.9396\n",
      "Epoch: 8, Batch: 0, Loss: 0.1040\n",
      "Epoch: 8, Batch: 100, Loss: 0.2170\n",
      "Epoch: 8, Batch: 200, Loss: 0.0293\n",
      "Epoch: 8, Batch: 300, Loss: 0.0991\n",
      "Epoch: 8, Batch: 400, Loss: 0.0823\n",
      "Epoch: 8, Batch: 500, Loss: 0.2272\n",
      "Epoch: 8, Batch: 600, Loss: 0.1207\n",
      "Epoch: 8, Batch: 700, Loss: 0.1756\n",
      "Epoch: 8, Batch: 800, Loss: 0.0958\n",
      "Epoch: 8, Batch: 900, Loss: 0.2472\n",
      "Epoch: 8, Batch: 1000, Loss: 0.1494\n",
      "Epoch: 8, Batch: 1100, Loss: 0.0361\n",
      "Epoch: 8, Batch: 1200, Loss: 0.1133\n",
      "Epoch: 8, Batch: 1300, Loss: 0.0391\n",
      "Epoch: 8\n",
      "Average Loss: 0.1252\n",
      "Training Accuracy: 0.9476\n",
      "Validation Loss: 0.1938\n",
      "Validation Accuracy: 0.9292\n",
      "Epoch: 9, Batch: 0, Loss: 0.0987\n",
      "Epoch: 9, Batch: 100, Loss: 0.2397\n",
      "Epoch: 9, Batch: 200, Loss: 0.0936\n",
      "Epoch: 9, Batch: 300, Loss: 0.2097\n",
      "Epoch: 9, Batch: 400, Loss: 0.0486\n",
      "Epoch: 9, Batch: 500, Loss: 0.0382\n",
      "Epoch: 9, Batch: 600, Loss: 0.2721\n",
      "Epoch: 9, Batch: 700, Loss: 0.1652\n",
      "Epoch: 9, Batch: 800, Loss: 0.2409\n",
      "Epoch: 9, Batch: 900, Loss: 0.0225\n",
      "Epoch: 9, Batch: 1000, Loss: 0.1307\n",
      "Epoch: 9, Batch: 1100, Loss: 0.0624\n",
      "Epoch: 9, Batch: 1200, Loss: 0.1813\n",
      "Epoch: 9, Batch: 1300, Loss: 0.1135\n",
      "Epoch: 9\n",
      "Average Loss: 0.1219\n",
      "Training Accuracy: 0.9500\n",
      "Validation Loss: 0.1542\n",
      "Validation Accuracy: 0.9417\n",
      "Epoch: 10, Batch: 0, Loss: 0.0391\n",
      "Epoch: 10, Batch: 100, Loss: 0.0910\n",
      "Epoch: 10, Batch: 200, Loss: 0.1958\n",
      "Epoch: 10, Batch: 300, Loss: 0.1874\n",
      "Epoch: 10, Batch: 400, Loss: 0.1499\n",
      "Epoch: 10, Batch: 500, Loss: 0.1147\n",
      "Epoch: 10, Batch: 600, Loss: 0.0501\n",
      "Epoch: 10, Batch: 700, Loss: 0.1673\n",
      "Epoch: 10, Batch: 800, Loss: 0.1052\n",
      "Epoch: 10, Batch: 900, Loss: 0.3301\n",
      "Epoch: 10, Batch: 1000, Loss: 0.1807\n",
      "Epoch: 10, Batch: 1100, Loss: 0.0773\n",
      "Epoch: 10, Batch: 1200, Loss: 0.0652\n",
      "Epoch: 10, Batch: 1300, Loss: 0.0826\n",
      "Epoch: 10\n",
      "Average Loss: 0.1153\n",
      "Training Accuracy: 0.9516\n",
      "Validation Loss: 0.1493\n",
      "Validation Accuracy: 0.9442\n",
      "Epoch: 11, Batch: 0, Loss: 0.0434\n",
      "Epoch: 11, Batch: 100, Loss: 0.1020\n",
      "Epoch: 11, Batch: 200, Loss: 0.0699\n",
      "Epoch: 11, Batch: 300, Loss: 0.3529\n",
      "Epoch: 11, Batch: 400, Loss: 0.1001\n",
      "Epoch: 11, Batch: 500, Loss: 0.0193\n",
      "Epoch: 11, Batch: 600, Loss: 0.0329\n",
      "Epoch: 11, Batch: 700, Loss: 0.0817\n",
      "Epoch: 11, Batch: 800, Loss: 0.1698\n",
      "Epoch: 11, Batch: 900, Loss: 0.0150\n",
      "Epoch: 11, Batch: 1000, Loss: 0.0723\n",
      "Epoch: 11, Batch: 1100, Loss: 0.0739\n",
      "Epoch: 11, Batch: 1200, Loss: 0.0721\n",
      "Epoch: 11, Batch: 1300, Loss: 0.2521\n",
      "Epoch: 11\n",
      "Average Loss: 0.1108\n",
      "Training Accuracy: 0.9547\n",
      "Validation Loss: 0.1481\n",
      "Validation Accuracy: 0.9416\n",
      "Epoch: 12, Batch: 0, Loss: 0.1763\n",
      "Epoch: 12, Batch: 100, Loss: 0.1782\n",
      "Epoch: 12, Batch: 200, Loss: 0.0738\n",
      "Epoch: 12, Batch: 300, Loss: 0.1720\n",
      "Epoch: 12, Batch: 400, Loss: 0.1260\n",
      "Epoch: 12, Batch: 500, Loss: 0.0600\n",
      "Epoch: 12, Batch: 600, Loss: 0.0753\n",
      "Epoch: 12, Batch: 700, Loss: 0.1058\n",
      "Epoch: 12, Batch: 800, Loss: 0.0362\n",
      "Epoch: 12, Batch: 900, Loss: 0.1701\n",
      "Epoch: 12, Batch: 1000, Loss: 0.0233\n",
      "Epoch: 12, Batch: 1100, Loss: 0.0161\n",
      "Epoch: 12, Batch: 1200, Loss: 0.0509\n",
      "Epoch: 12, Batch: 1300, Loss: 0.0363\n",
      "Epoch: 12\n",
      "Average Loss: 0.1067\n",
      "Training Accuracy: 0.9568\n",
      "Validation Loss: 0.1654\n",
      "Validation Accuracy: 0.9376\n",
      "Epoch: 13, Batch: 0, Loss: 0.0977\n",
      "Epoch: 13, Batch: 100, Loss: 0.0538\n",
      "Epoch: 13, Batch: 200, Loss: 0.1813\n",
      "Epoch: 13, Batch: 300, Loss: 0.1297\n",
      "Epoch: 13, Batch: 400, Loss: 0.0305\n",
      "Epoch: 13, Batch: 500, Loss: 0.1862\n",
      "Epoch: 13, Batch: 600, Loss: 0.2825\n",
      "Epoch: 13, Batch: 700, Loss: 0.0864\n",
      "Epoch: 13, Batch: 800, Loss: 0.0110\n",
      "Epoch: 13, Batch: 900, Loss: 0.1564\n",
      "Epoch: 13, Batch: 1000, Loss: 0.0315\n",
      "Epoch: 13, Batch: 1100, Loss: 0.0644\n",
      "Epoch: 13, Batch: 1200, Loss: 0.0589\n",
      "Epoch: 13, Batch: 1300, Loss: 0.0992\n",
      "Epoch: 13\n",
      "Average Loss: 0.1044\n",
      "Training Accuracy: 0.9575\n",
      "Validation Loss: 0.1389\n",
      "Validation Accuracy: 0.9450\n",
      "Epoch: 14, Batch: 0, Loss: 0.0390\n",
      "Epoch: 14, Batch: 100, Loss: 0.0205\n",
      "Epoch: 14, Batch: 200, Loss: 0.0790\n",
      "Epoch: 14, Batch: 300, Loss: 0.0340\n",
      "Epoch: 14, Batch: 400, Loss: 0.0284\n",
      "Epoch: 14, Batch: 500, Loss: 0.1743\n",
      "Epoch: 14, Batch: 600, Loss: 0.0301\n",
      "Epoch: 14, Batch: 700, Loss: 0.0806\n",
      "Epoch: 14, Batch: 800, Loss: 0.1629\n",
      "Epoch: 14, Batch: 900, Loss: 0.1137\n",
      "Epoch: 14, Batch: 1000, Loss: 0.0900\n",
      "Epoch: 14, Batch: 1100, Loss: 0.2011\n",
      "Epoch: 14, Batch: 1200, Loss: 0.2370\n",
      "Epoch: 14, Batch: 1300, Loss: 0.1672\n",
      "Epoch: 14\n",
      "Average Loss: 0.0995\n",
      "Training Accuracy: 0.9594\n",
      "Validation Loss: 0.1425\n",
      "Validation Accuracy: 0.9409\n"
     ]
    }
   ],
   "source": [
    "# Initialize model\n",
    "model = MLPModel(\n",
    "    embedding_matrix=embedding_matrix,\n",
    ").to(device)\n",
    "\n",
    "batch_size = 32\n",
    "# Create data loaders\n",
    "train_loader = DataLoader(train_dataset, batch_size=batch_size, shuffle=True)\n",
    "val_loader = DataLoader(val_dataset, batch_size=batch_size)\n",
    "test_loader = DataLoader(test_dataset, batch_size=batch_size)\n",
    "\n",
    "# Train model\n",
    "loss_training_values, loss_validation_values, acc_training_values, acc_validation = train_model(model, train_loader, val_loader, epochs=15, learning_rate=1e-4)"
   ]
  },
  {
   "cell_type": "markdown",
   "id": "db36dc4ba2a63461",
   "metadata": {
    "collapsed": false,
    "pycharm": {
     "name": "#%% md\n"
    }
   },
   "source": [
    "## Step 8: Test the Model"
   ]
  },
  {
   "cell_type": "code",
   "execution_count": 13,
   "id": "bdf381d59ff9f467",
   "metadata": {
    "ExecuteTime": {
     "end_time": "2025-01-15T07:15:57.917560800Z",
     "start_time": "2025-01-15T07:15:52.092644200Z"
    },
    "collapsed": false,
    "pycharm": {
     "name": "#%%\n"
    }
   },
   "outputs": [
    {
     "name": "stdout",
     "output_type": "stream",
     "text": [
      "Test Accuracy: 0.9406033940917662\n"
     ]
    }
   ],
   "source": [
    "model.eval()\n",
    "with torch.no_grad():\n",
    "    test_preds = []\n",
    "    test_labels = []\n",
    "    for texts, labels in test_loader:\n",
    "        texts, labels = texts.to(device), labels.to(device)\n",
    "        outputs = model(texts).squeeze(1)  # Ensure outputs have the same shape as labels\n",
    "        preds = torch.round(torch.sigmoid(outputs)).cpu().numpy()\n",
    "        test_preds.extend(preds)\n",
    "        test_labels.extend(labels.cpu().numpy())\n",
    "\n",
    "    test_acc = accuracy_score(test_labels, test_preds)\n",
    "    print(f\"Test Accuracy: {test_acc}\")"
   ]
  },
  {
   "cell_type": "code",
   "execution_count": 14,
   "id": "dae5ab1a55bf3154",
   "metadata": {
    "ExecuteTime": {
     "end_time": "2025-01-15T07:15:59.057342400Z",
     "start_time": "2025-01-15T07:15:57.913562100Z"
    },
    "collapsed": false,
    "pycharm": {
     "name": "#%%\n"
    }
   },
   "outputs": [
    {
     "data": {
      "image/png": "[encoded data removed]",
      "text/plain": [
       "<Figure size 1000x500 with 1 Axes>"
      ]
     },
     "metadata": {},
     "output_type": "display_data"
    }
   ],
   "source": [
    "def plot_losses(train_losses, val_losses):\n",
    "    plt.figure(figsize=(10, 5))\n",
    "    plt.plot(train_losses, label='Training Loss')\n",
    "    plt.plot(val_losses, label='Validation Loss')\n",
    "    plt.xlabel('Epochs')\n",
    "    plt.ylabel('Loss')\n",
    "    plt.title('Training and Validation Loss Over Epochs')\n",
    "    plt.legend()\n",
    "    plt.show()\n",
    "    \n",
    "plot_losses(loss_training_values, loss_validation_values)"
   ]
  },
  {
   "cell_type": "code",
   "execution_count": 15,
   "id": "ae70888b88d3ad5",
   "metadata": {
    "ExecuteTime": {
     "end_time": "2025-01-15T07:15:59.962090300Z",
     "start_time": "2025-01-15T07:15:59.070902200Z"
    },
    "collapsed": false,
    "pycharm": {
     "name": "#%%\n"
    }
   },
   "outputs": [
    {
     "data": {
      "image/png": "[encoded data removed]",
      "text/plain": [
       "<Figure size 1000x500 with 1 Axes>"
      ]
     },
     "metadata": {},
     "output_type": "display_data"
    }
   ],
   "source": [
    "def plot_accuracies(train_accuracies, val_accuracies):\n",
    "    plt.figure(figsize=(10, 5))\n",
    "    plt.plot(train_accuracies, label='Training Accuracy')\n",
    "    plt.plot(val_accuracies, label='Validation Accuracy')\n",
    "    plt.xlabel('Epochs')\n",
    "    plt.ylabel('Accuracy')\n",
    "    plt.title('Training and Validation Accuracy Over Epochs')\n",
    "    plt.legend()\n",
    "    plt.show()\n",
    "    \n",
    "plot_accuracies(acc_training_values, acc_validation)"
   ]
  },
  {
   "cell_type": "code",
   "execution_count": null,
   "outputs": [],
   "source": [],
   "metadata": {
    "collapsed": false
   },
   "id": "f679b913480882b"
  }
 ],
 "metadata": {
  "kernelspec": {
   "display_name": "venv",
   "language": "python",
   "name": "python3"
  },
  "language_info": {
   "codemirror_mode": {
    "name": "ipython",
    "version": 3
   },
   "file_extension": ".py",
   "mimetype": "text/x-python",
   "name": "python",
   "nbconvert_exporter": "python",
   "pygments_lexer": "ipython3",
   "version": "3.10.6"
  }
 },
 "nbformat": 4,
 "nbformat_minor": 5
}
