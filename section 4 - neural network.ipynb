{
 "cells": [
  {
   "cell_type": "raw",
   "id": "d7834e9ef929b411",
   "metadata": {
    "collapsed": false,
    "pycharm": {
     "name": "#%% raw\n"
    }
   },
   "source": [
    "    "
   ]
  },
  {
   "cell_type": "markdown",
   "id": "33bdfde27f1542c6",
   "metadata": {
    "collapsed": false,
    "pycharm": {
     "name": "#%% md\n"
    }
   },
   "source": [
    "## Step 1: Load the Required Libraries\n",
    "In this step, we import the necessary libraries, including PyTorch for building the model,\n",
    "and other utilities for data preprocessing, loading, and splitting."
   ]
  },
  {
   "cell_type": "code",
   "execution_count": 1,
   "id": "50344716be4f0221",
   "metadata": {
    "collapsed": false,
    "pycharm": {
     "is_executing": true,
     "name": "#%%\n"
    },
    "ExecuteTime": {
     "end_time": "2025-01-15T12:24:49.993241Z",
     "start_time": "2025-01-15T12:24:45.374955700Z"
    }
   },
   "outputs": [],
   "source": [
    "# Import Libraries\n",
    "import numpy as np\n",
    "import pandas as pd\n",
    "import torch\n",
    "from torch import nn\n",
    "from torch.utils.data import Dataset, DataLoader\n",
    "from sklearn.metrics import accuracy_score\n",
    "from gensim.models import KeyedVectors\n",
    "import matplotlib.pyplot as plt\n",
    "import random"
   ]
  },
  {
   "cell_type": "markdown",
   "id": "e4b4598463541a6b",
   "metadata": {
    "collapsed": false,
    "pycharm": {
     "name": "#%% md\n"
    }
   },
   "source": []
  },
  {
   "cell_type": "code",
   "execution_count": 2,
   "id": "6208ab06a04806cf",
   "metadata": {
    "collapsed": false,
    "pycharm": {
     "name": "#%%\n"
    },
    "ExecuteTime": {
     "end_time": "2025-01-15T12:24:49.998393400Z",
     "start_time": "2025-01-15T12:24:49.996383Z"
    }
   },
   "outputs": [
    {
     "name": "stdout",
     "output_type": "stream",
     "text": [
      "Using device: cpu\n"
     ]
    }
   ],
   "source": [
    "# Check if GPU is available\n",
    "device = torch.device(\"cuda\" if torch.cuda.is_available() else \"cpu\")\n",
    "print(f\"Using device: {device}\")"
   ]
  },
  {
   "cell_type": "markdown",
   "id": "5deed5f18d2a6425",
   "metadata": {
    "collapsed": false,
    "pycharm": {
     "name": "#%% md\n"
    }
   },
   "source": [
    "## Step 2: Load and Preprocess the Dataset\n",
    "Here, we load the dataset from the CSV files and preprocess it for training the model.\n"
   ]
  },
  {
   "cell_type": "code",
   "execution_count": 3,
   "id": "initial_id",
   "metadata": {
    "pycharm": {
     "name": "#%%\n"
    },
    "ExecuteTime": {
     "end_time": "2025-01-15T12:24:50.864419300Z",
     "start_time": "2025-01-15T12:24:50.001459500Z"
    }
   },
   "outputs": [],
   "source": [
    "# Load the preprocessed data from CSV files\n",
    "train_data = pd.read_csv(\"train.csv\")\n",
    "val_data = pd.read_csv(\"val.csv\")\n",
    "test_data = pd.read_csv(\"test.csv\")\n",
    "\n",
    "X_train = train_data['text']\n",
    "y_train = train_data['label']\n",
    "\n",
    "X_val = val_data['text']\n",
    "y_val = val_data['label']\n",
    "\n",
    "X_test = test_data['text']\n",
    "y_test = test_data['label']"
   ]
  },
  {
   "cell_type": "markdown",
   "id": "88ec74b5c796343c",
   "metadata": {
    "collapsed": false,
    "pycharm": {
     "name": "#%% md\n"
    }
   },
   "source": [
    "## Step 3: Load Pre-trained Word2Vec Embeddings\n",
    "We use pre-trained Word2Vec embeddings to represent words as dense vectors.\n",
    "These embeddings improve the performance of the model by leveraging semantic relationships between words."
   ]
  },
  {
   "cell_type": "code",
   "execution_count": 4,
   "id": "fec26f2549a31896",
   "metadata": {
    "collapsed": false,
    "pycharm": {
     "name": "#%%\n"
    },
    "ExecuteTime": {
     "end_time": "2025-01-15T12:25:30.620081800Z",
     "start_time": "2025-01-15T12:24:50.865418700Z"
    }
   },
   "outputs": [],
   "source": [
    "# Load pre-trained Word2Vec model\n",
    "word2vec = KeyedVectors.load_word2vec_format(\"GoogleNews-vectors-negative300.bin.gz\", binary=True)"
   ]
  },
  {
   "cell_type": "code",
   "execution_count": 5,
   "id": "a330f9e5d96c4b5a",
   "metadata": {
    "collapsed": false,
    "pycharm": {
     "name": "#%%\n"
    },
    "ExecuteTime": {
     "end_time": "2025-01-15T12:25:30.634124700Z",
     "start_time": "2025-01-15T12:25:30.625065Z"
    }
   },
   "outputs": [],
   "source": [
    "# Create a vocabulary\n",
    "embedding_dim = 300  # Word2Vec embedding size\n",
    "vocab = {\"<PAD>\": 0, \"<UNK>\": 1}  # Special tokens\n",
    "embedding_matrix = [np.zeros(embedding_dim),\n",
    "                    np.random.uniform(-0.01, 0.01, embedding_dim)]  # Initialize <PAD> and <UNK>"
   ]
  },
  {
   "cell_type": "code",
   "execution_count": 6,
   "id": "bd9faee07f3ddc27",
   "metadata": {
    "collapsed": false,
    "pycharm": {
     "name": "#%%\n"
    },
    "ExecuteTime": {
     "end_time": "2025-01-15T12:25:33.973401700Z",
     "start_time": "2025-01-15T12:25:30.632111600Z"
    }
   },
   "outputs": [
    {
     "name": "stdout",
     "output_type": "stream",
     "text": [
      "Vocabulary size: 76131\n"
     ]
    }
   ],
   "source": [
    "# Build vocabulary from Word2Vec\n",
    "for text in X_train:\n",
    "    for word in text.split():\n",
    "        if word not in vocab and word in word2vec:\n",
    "            vocab[word] = len(vocab)\n",
    "            embedding_matrix.append(word2vec[word])\n",
    "\n",
    "embedding_matrix = np.array(embedding_matrix)\n",
    "vocab_size = len(vocab)\n",
    "\n",
    "print(f\"Vocabulary size: {vocab_size}\")"
   ]
  },
  {
   "cell_type": "markdown",
   "id": "df38d9eec78e73f5",
   "metadata": {
    "collapsed": false,
    "pycharm": {
     "name": "#%% md\n"
    }
   },
   "source": [
    "# Step 4: Tokenize and Pad Sequences\n",
    "Convert the text into sequences of integers based on the vocabulary. We also pad sequences to ensure they all have the same length for batch processing."
   ]
  },
  {
   "cell_type": "code",
   "execution_count": 7,
   "id": "30f6dee9a41649a5",
   "metadata": {
    "collapsed": false,
    "pycharm": {
     "name": "#%%\n"
    },
    "ExecuteTime": {
     "end_time": "2025-01-15T12:25:37.215938800Z",
     "start_time": "2025-01-15T12:25:33.965381800Z"
    }
   },
   "outputs": [],
   "source": [
    "# Tokenize and convert text to sequences\n",
    "def text_to_sequence(text, vocab, max_len=200):\n",
    "    sequence = [vocab.get(word, vocab[\"<UNK>\"]) for word in text.split()]\n",
    "    if len(sequence) < max_len:\n",
    "        sequence.extend([vocab[\"<PAD>\"]] * (max_len - len(sequence)))\n",
    "    return sequence[:max_len]\n",
    "\n",
    "\n",
    "# Apply tokenization\n",
    "max_len = 200\n",
    "X_train_seq = [text_to_sequence(text, vocab, max_len) for text in X_train]\n",
    "X_val_seq = [text_to_sequence(text, vocab, max_len) for text in X_val]\n",
    "X_test_seq = [text_to_sequence(text, vocab, max_len) for text in X_test]"
   ]
  },
  {
   "cell_type": "markdown",
   "id": "58bdcacd0bfa149a",
   "metadata": {
    "collapsed": false,
    "pycharm": {
     "name": "#%% md\n"
    }
   },
   "source": [
    "## Step 5: Create a Dataset and DataLoader\n",
    "We define a custom Dataset class to handle our data and create DataLoader objects\n",
    "to efficiently load data during training and validation."
   ]
  },
  {
   "cell_type": "code",
   "execution_count": 8,
   "id": "d808fcaa1d2b07c",
   "metadata": {
    "collapsed": false,
    "pycharm": {
     "name": "#%%\n"
    },
    "ExecuteTime": {
     "end_time": "2025-01-15T12:25:37.226684800Z",
     "start_time": "2025-01-15T12:25:37.221022900Z"
    }
   },
   "outputs": [],
   "source": [
    "def augment_text(text):\n",
    "    words = text.split()\n",
    "    # Randomly drop some words (with 20% probability)\n",
    "    words = [w for w in words if random.random() > 0.2]\n",
    "    # If we dropped all words (unlikely but possible), return original text\n",
    "    if not words:\n",
    "        return text\n",
    "    return ' '.join(words)\n",
    "\n",
    "\n",
    "# Custom Dataset Class\n",
    "class TextDataset(Dataset):\n",
    "    def __init__(self, texts, labels, is_training=False):\n",
    "        self.texts = torch.tensor(texts, dtype=torch.long)\n",
    "        self.labels = torch.tensor(labels.values, dtype=torch.float32)\n",
    "        self.is_training = is_training\n",
    "\n",
    "    def __len__(self):\n",
    "        return len(self.labels)\n",
    "\n",
    "    def __getitem__(self, idx):\n",
    "        if self.is_training:\n",
    "            # Get the original sequence\n",
    "            sequence = self.texts[idx].tolist()  # Convert tensor to list\n",
    "            # Remove padding tokens for augmentation\n",
    "            sequence = [x for x in sequence if x != vocab[\"<PAD>\"]]\n",
    "            # Augment\n",
    "            if len(sequence) > 0:  # Only augment if we have tokens\n",
    "                sequence = [x for x in sequence if random.random() > 0.2]\n",
    "            # Re-pad the sequence\n",
    "            if len(sequence) < max_len:\n",
    "                sequence.extend([vocab[\"<PAD>\"]] * (max_len - len(sequence)))\n",
    "            sequence = sequence[:max_len]\n",
    "            # Convert back to tensor\n",
    "            text = torch.tensor(sequence, dtype=torch.long)\n",
    "        else:\n",
    "            text = self.texts[idx]\n",
    "\n",
    "        return text, self.labels[idx]"
   ]
  },
  {
   "cell_type": "code",
   "execution_count": 9,
   "id": "bbd8254a9c8d28ec",
   "metadata": {
    "collapsed": false,
    "pycharm": {
     "name": "#%%\n"
    },
    "ExecuteTime": {
     "end_time": "2025-01-15T12:25:37.711886300Z",
     "start_time": "2025-01-15T12:25:37.225626200Z"
    }
   },
   "outputs": [],
   "source": [
    "# Create Dataset and DataLoader\n",
    "batch_size = 32\n",
    "train_dataset = TextDataset(X_train_seq, y_train, is_training=True)\n",
    "val_dataset = TextDataset(X_val_seq, y_val, is_training=False)\n",
    "test_dataset = TextDataset(X_test_seq, y_test, is_training=False)"
   ]
  },
  {
   "cell_type": "markdown",
   "id": "84d278bafdd53198",
   "metadata": {
    "collapsed": false,
    "pycharm": {
     "name": "#%% md\n"
    }
   },
   "source": [
    "## Step 6: Define the MLP Model\n",
    "The model consists of an embedding layer initialized with Word2Vec embeddings,\n",
    "followed by an layers, and a fully connected output layer."
   ]
  },
  {
   "cell_type": "code",
   "execution_count": 10,
   "id": "fe62ddba4cbd31a0",
   "metadata": {
    "collapsed": false,
    "pycharm": {
     "name": "#%%\n"
    },
    "ExecuteTime": {
     "end_time": "2025-01-15T12:25:37.723780900Z",
     "start_time": "2025-01-15T12:25:37.715843300Z"
    }
   },
   "outputs": [],
   "source": [
    "class MLPModel(nn.Module):\n",
    "    def __init__(self, embedding_matrix, hidden_dims=[512, 256, 128], output_dim=1):\n",
    "        super(MLPModel, self).__init__()\n",
    "\n",
    "        # Embedding Layer with frozen weights\n",
    "        self.embedding = nn.Embedding.from_pretrained(\n",
    "            torch.tensor(embedding_matrix, dtype=torch.float32),\n",
    "            freeze=True,\n",
    "            padding_idx=0\n",
    "        )\n",
    "\n",
    "        # Calculate input dimension\n",
    "        input_dim = embedding_matrix.shape[1] * max_len\n",
    "\n",
    "        # Create list to hold all layers\n",
    "        layers = []\n",
    "\n",
    "        # Input layer\n",
    "        layers.append(nn.Linear(input_dim, hidden_dims[0]))\n",
    "        layers.append(nn.LayerNorm(hidden_dims[0]))\n",
    "        layers.append(nn.ReLU())\n",
    "        layers.append(nn.Dropout(0.5))\n",
    "\n",
    "        # Hidden layers\n",
    "        for i in range(len(hidden_dims) - 1):\n",
    "            layers.append(nn.Linear(hidden_dims[i], hidden_dims[i + 1]))\n",
    "            layers.append(nn.LayerNorm(hidden_dims[i + 1]))\n",
    "            layers.append(nn.ReLU())\n",
    "            layers.append(nn.Dropout(0.2))\n",
    "\n",
    "        # Output layer\n",
    "        layers.append(nn.Linear(hidden_dims[-1], output_dim))\n",
    "\n",
    "        # Combine all layers\n",
    "        self.model = nn.Sequential(*layers)\n",
    "\n",
    "    def forward(self, x):\n",
    "        # Get embeddings and flatten\n",
    "        embedded = self.embedding(x)\n",
    "        flattened = embedded.view(embedded.size(0), -1)\n",
    "\n",
    "        # Forward pass through all layers\n",
    "        return self.model(flattened)"
   ]
  },
  {
   "cell_type": "markdown",
   "id": "9fd337492427a405",
   "metadata": {
    "collapsed": false,
    "pycharm": {
     "name": "#%% md\n"
    }
   },
   "source": [
    "## Step 7: Train the Model\n",
    "Train the model for multiple epochs and validate its performance on the validation set."
   ]
  },
  {
   "cell_type": "code",
   "execution_count": 11,
   "id": "92f9c91de8288107",
   "metadata": {
    "collapsed": false,
    "pycharm": {
     "name": "#%%\n"
    },
    "ExecuteTime": {
     "end_time": "2025-01-15T12:25:37.931399400Z",
     "start_time": "2025-01-15T12:25:37.768772900Z"
    }
   },
   "outputs": [],
   "source": [
    "def train_model(model, train_loader, val_loader, epochs=15, learning_rate=1e-4):\n",
    "    num_pos = sum(y_train == 1)\n",
    "    num_neg = sum(y_train == 0)\n",
    "    pos_weight = torch.tensor([num_neg / num_pos]).to(device)\n",
    "    criterion = nn.BCEWithLogitsLoss(pos_weight=pos_weight)\n",
    "\n",
    "    optimizer = torch.optim.AdamW(\n",
    "        model.parameters(),\n",
    "        lr=learning_rate,\n",
    "        weight_decay=0.1\n",
    "    )\n",
    "\n",
    "    scheduler = torch.optim.lr_scheduler.ReduceLROnPlateau(\n",
    "        optimizer,\n",
    "        mode='max',\n",
    "        factor=0.5,\n",
    "        patience=2,\n",
    "        verbose=True\n",
    "    )\n",
    "\n",
    "    best_model_state = None\n",
    "    best_val_loss = float('inf')\n",
    "    patience = 4\n",
    "    patience_counter = 0\n",
    "    loss_validation_values = []\n",
    "    loss_training_values = []\n",
    "\n",
    "    acc_validation_values = []\n",
    "    acc_training_values = []\n",
    "\n",
    "    num_warmup_steps = 100\n",
    "\n",
    "    def get_lr(step):\n",
    "        if step < num_warmup_steps:\n",
    "            return learning_rate * (step / num_warmup_steps)\n",
    "        return learning_rate\n",
    "\n",
    "    for epoch in range(epochs):\n",
    "        # Training phase\n",
    "        model.train()\n",
    "        total_loss = 0\n",
    "        correct = 0\n",
    "        total = 0\n",
    "\n",
    "        for i, (texts, labels) in enumerate(train_loader):\n",
    "            current_lr = get_lr(epoch * len(train_loader) + i)\n",
    "            for param_group in optimizer.param_groups:\n",
    "                param_group['lr'] = current_lr\n",
    "\n",
    "            texts = texts.to(device)\n",
    "            # Ensure labels are float and proper shape\n",
    "            labels = labels.float().to(device)\n",
    "\n",
    "            optimizer.zero_grad()\n",
    "\n",
    "            # Forward pass and ensure output shape matches labels\n",
    "            outputs = model(texts).squeeze(-1)\n",
    "\n",
    "            # Ensure shapes match\n",
    "            if len(outputs.shape) == 0:\n",
    "                outputs = outputs.unsqueeze(0)\n",
    "            if len(labels.shape) == 0:\n",
    "                labels = labels.unsqueeze(0)\n",
    "\n",
    "            loss = criterion(outputs, labels)\n",
    "            loss.backward()\n",
    "\n",
    "            torch.nn.utils.clip_grad_norm_(model.parameters(), max_norm=1.0)\n",
    "            optimizer.step()\n",
    "\n",
    "            predicted = torch.round(torch.sigmoid(outputs))\n",
    "            total += labels.size(0)\n",
    "            correct += (predicted == labels).sum().item()\n",
    "\n",
    "            total_loss += loss.item()\n",
    "\n",
    "            if i % 100 == 0:\n",
    "                print(f'Epoch: {epoch}, Batch: {i}, Loss: {loss.item():.4f}')\n",
    "\n",
    "        train_acc = correct / total\n",
    "        avg_loss = total_loss / len(train_loader)\n",
    "        loss_training_values.append(avg_loss)\n",
    "\n",
    "        # Validation phase\n",
    "        val_loss, val_acc = evaluate_model(model, val_loader, criterion)\n",
    "        loss_validation_values.append(val_loss)\n",
    "\n",
    "        print(f'Epoch: {epoch}')\n",
    "        print(f'Average Loss: {avg_loss:.4f}')\n",
    "        print(f'Training Accuracy: {train_acc:.4f}')\n",
    "        print(f'Validation Loss: {val_loss:.4f}')\n",
    "        print(f'Validation Accuracy: {val_acc:.4f}')\n",
    "\n",
    "        acc_training_values.append(train_acc)\n",
    "        acc_validation_values.append(val_acc)\n",
    "\n",
    "        scheduler.step(val_acc)\n",
    "\n",
    "        if val_loss < best_val_loss:\n",
    "            best_val_loss = val_loss\n",
    "            best_model_state = model.state_dict().copy()\n",
    "            patience_counter = 0\n",
    "            torch.save(best_model_state, 'best_mlp_model.pth')\n",
    "        else:\n",
    "            patience_counter += 1\n",
    "\n",
    "        if patience_counter >= patience:\n",
    "            print('Early stopping triggered')\n",
    "            # Restore best model\n",
    "            model.load_state_dict(best_model_state)\n",
    "            break\n",
    "\n",
    "    return loss_training_values, loss_validation_values, acc_training_values, acc_validation_values\n",
    "\n",
    "\n",
    "def evaluate_model(model, data_loader, criterion):\n",
    "    model.eval()\n",
    "    correct = 0\n",
    "    total = 0\n",
    "    total_loss = 0\n",
    "\n",
    "    with torch.no_grad():\n",
    "        for texts, labels in data_loader:\n",
    "            texts = texts.to(device)\n",
    "            labels = labels.float().to(device)\n",
    "\n",
    "            outputs = model(texts).squeeze(-1)\n",
    "\n",
    "            if len(outputs.shape) == 0:\n",
    "                outputs = outputs.unsqueeze(0)\n",
    "            if len(labels.shape) == 0:\n",
    "                labels = labels.unsqueeze(0)\n",
    "\n",
    "            loss = criterion(outputs, labels)\n",
    "            total_loss += loss.item()\n",
    "\n",
    "            predicted = torch.round(torch.sigmoid(outputs))\n",
    "            total += labels.size(0)\n",
    "            correct += (predicted == labels).sum().item()\n",
    "\n",
    "    avg_loss = total_loss / len(data_loader)\n",
    "    accuracy = correct / total\n",
    "    return avg_loss, accuracy"
   ]
  },
  {
   "cell_type": "code",
   "execution_count": 12,
   "id": "ca8f2a80031117b",
   "metadata": {
    "collapsed": false,
    "pycharm": {
     "name": "#%%\n"
    },
    "ExecuteTime": {
     "end_time": "2025-01-15T12:33:51.696494300Z",
     "start_time": "2025-01-15T12:25:37.933445200Z"
    }
   },
   "outputs": [
    {
     "name": "stderr",
     "output_type": "stream",
     "text": [
      "C:\\Users\\shayg\\projects\\DL\\Fake-News-Classifier\\venv\\Lib\\site-packages\\torch\\optim\\lr_scheduler.py:62: UserWarning: The verbose parameter is deprecated. Please use get_last_lr() to access the learning rate.\n",
      "  warnings.warn(\n"
     ]
    },
    {
     "name": "stdout",
     "output_type": "stream",
     "text": [
      "Epoch: 0, Batch: 0, Loss: 0.6828\n",
      "Epoch: 0, Batch: 100, Loss: 0.2455\n",
      "Epoch: 0, Batch: 200, Loss: 0.2804\n",
      "Epoch: 0, Batch: 300, Loss: 0.1433\n",
      "Epoch: 0, Batch: 400, Loss: 0.0815\n",
      "Epoch: 0, Batch: 500, Loss: 0.1052\n",
      "Epoch: 0, Batch: 600, Loss: 0.1311\n",
      "Epoch: 0, Batch: 700, Loss: 0.1883\n",
      "Epoch: 0\n",
      "Average Loss: 0.2287\n",
      "Training Accuracy: 0.9122\n",
      "Validation Loss: 0.1454\n",
      "Validation Accuracy: 0.9570\n",
      "Epoch: 1, Batch: 0, Loss: 0.0917\n",
      "Epoch: 1, Batch: 100, Loss: 0.1348\n",
      "Epoch: 1, Batch: 200, Loss: 0.0844\n",
      "Epoch: 1, Batch: 300, Loss: 0.0908\n",
      "Epoch: 1, Batch: 400, Loss: 0.1277\n",
      "Epoch: 1, Batch: 500, Loss: 0.0860\n",
      "Epoch: 1, Batch: 600, Loss: 0.0236\n",
      "Epoch: 1, Batch: 700, Loss: 0.2594\n",
      "Epoch: 1\n",
      "Average Loss: 0.1333\n",
      "Training Accuracy: 0.9530\n",
      "Validation Loss: 0.1277\n",
      "Validation Accuracy: 0.9575\n",
      "Epoch: 2, Batch: 0, Loss: 0.1023\n",
      "Epoch: 2, Batch: 100, Loss: 0.0176\n",
      "Epoch: 2, Batch: 200, Loss: 0.1710\n",
      "Epoch: 2, Batch: 300, Loss: 0.1968\n",
      "Epoch: 2, Batch: 400, Loss: 0.0955\n",
      "Epoch: 2, Batch: 500, Loss: 0.0628\n",
      "Epoch: 2, Batch: 600, Loss: 0.0865\n",
      "Epoch: 2, Batch: 700, Loss: 0.1891\n",
      "Epoch: 2\n",
      "Average Loss: 0.1162\n",
      "Training Accuracy: 0.9583\n",
      "Validation Loss: 0.1288\n",
      "Validation Accuracy: 0.9607\n",
      "Epoch: 3, Batch: 0, Loss: 0.0325\n",
      "Epoch: 3, Batch: 100, Loss: 0.2057\n",
      "Epoch: 3, Batch: 200, Loss: 0.0712\n",
      "Epoch: 3, Batch: 300, Loss: 0.0256\n",
      "Epoch: 3, Batch: 400, Loss: 0.1581\n",
      "Epoch: 3, Batch: 500, Loss: 0.1441\n",
      "Epoch: 3, Batch: 600, Loss: 0.2277\n",
      "Epoch: 3, Batch: 700, Loss: 0.1513\n",
      "Epoch: 3\n",
      "Average Loss: 0.1043\n",
      "Training Accuracy: 0.9638\n",
      "Validation Loss: 0.1116\n",
      "Validation Accuracy: 0.9631\n",
      "Epoch: 4, Batch: 0, Loss: 0.1794\n",
      "Epoch: 4, Batch: 100, Loss: 0.0702\n",
      "Epoch: 4, Batch: 200, Loss: 0.0548\n",
      "Epoch: 4, Batch: 300, Loss: 0.2376\n",
      "Epoch: 4, Batch: 400, Loss: 0.1518\n",
      "Epoch: 4, Batch: 500, Loss: 0.0125\n",
      "Epoch: 4, Batch: 600, Loss: 0.0401\n",
      "Epoch: 4, Batch: 700, Loss: 0.0498\n",
      "Epoch: 4\n",
      "Average Loss: 0.0964\n",
      "Training Accuracy: 0.9662\n",
      "Validation Loss: 0.1031\n",
      "Validation Accuracy: 0.9653\n",
      "Epoch: 5, Batch: 0, Loss: 0.0693\n",
      "Epoch: 5, Batch: 100, Loss: 0.1684\n",
      "Epoch: 5, Batch: 200, Loss: 0.2248\n",
      "Epoch: 5, Batch: 300, Loss: 0.0089\n",
      "Epoch: 5, Batch: 400, Loss: 0.0106\n",
      "Epoch: 5, Batch: 500, Loss: 0.1256\n",
      "Epoch: 5, Batch: 600, Loss: 0.2460\n",
      "Epoch: 5, Batch: 700, Loss: 0.2739\n",
      "Epoch: 5\n",
      "Average Loss: 0.0886\n",
      "Training Accuracy: 0.9700\n",
      "Validation Loss: 0.1140\n",
      "Validation Accuracy: 0.9652\n",
      "Epoch: 6, Batch: 0, Loss: 0.1294\n",
      "Epoch: 6, Batch: 100, Loss: 0.1852\n",
      "Epoch: 6, Batch: 200, Loss: 0.0643\n",
      "Epoch: 6, Batch: 300, Loss: 0.0434\n",
      "Epoch: 6, Batch: 400, Loss: 0.1349\n",
      "Epoch: 6, Batch: 500, Loss: 0.0159\n",
      "Epoch: 6, Batch: 600, Loss: 0.1204\n",
      "Epoch: 6, Batch: 700, Loss: 0.1238\n",
      "Epoch: 6\n",
      "Average Loss: 0.0822\n",
      "Training Accuracy: 0.9718\n",
      "Validation Loss: 0.1058\n",
      "Validation Accuracy: 0.9688\n",
      "Epoch: 7, Batch: 0, Loss: 0.2315\n",
      "Epoch: 7, Batch: 100, Loss: 0.0141\n",
      "Epoch: 7, Batch: 200, Loss: 0.1408\n",
      "Epoch: 7, Batch: 300, Loss: 0.0169\n",
      "Epoch: 7, Batch: 400, Loss: 0.3070\n",
      "Epoch: 7, Batch: 500, Loss: 0.0650\n",
      "Epoch: 7, Batch: 600, Loss: 0.0228\n",
      "Epoch: 7, Batch: 700, Loss: 0.1806\n",
      "Epoch: 7\n",
      "Average Loss: 0.0793\n",
      "Training Accuracy: 0.9733\n",
      "Validation Loss: 0.1116\n",
      "Validation Accuracy: 0.9636\n",
      "Epoch: 8, Batch: 0, Loss: 0.0112\n",
      "Epoch: 8, Batch: 100, Loss: 0.0715\n",
      "Epoch: 8, Batch: 200, Loss: 0.0276\n",
      "Epoch: 8, Batch: 300, Loss: 0.0097\n",
      "Epoch: 8, Batch: 400, Loss: 0.0088\n",
      "Epoch: 8, Batch: 500, Loss: 0.1225\n",
      "Epoch: 8, Batch: 600, Loss: 0.0425\n",
      "Epoch: 8, Batch: 700, Loss: 0.0122\n",
      "Epoch: 8\n",
      "Average Loss: 0.0739\n",
      "Training Accuracy: 0.9758\n",
      "Validation Loss: 0.1123\n",
      "Validation Accuracy: 0.9636\n",
      "Early stopping triggered\n"
     ]
    }
   ],
   "source": [
    "# Initialize model\n",
    "model = MLPModel(\n",
    "    embedding_matrix=embedding_matrix,\n",
    "    hidden_dims=[256, 128, 64],\n",
    "    output_dim=1\n",
    ").to(device)\n",
    "\n",
    "# Create data loaders\n",
    "train_loader = DataLoader(train_dataset, batch_size=32, shuffle=True)\n",
    "val_loader = DataLoader(val_dataset, batch_size=32)\n",
    "test_loader = DataLoader(test_dataset, batch_size=32)\n",
    "\n",
    "# Train model\n",
    "loss_training_values, loss_validation_values, acc_training_values, acc_validation = train_model(model, train_loader,\n",
    "                                                                                                val_loader, epochs=15,\n",
    "                                                                                                learning_rate=1e-4)"
   ]
  },
  {
   "cell_type": "markdown",
   "id": "db36dc4ba2a63461",
   "metadata": {
    "collapsed": false,
    "pycharm": {
     "name": "#%% md\n"
    }
   },
   "source": [
    "## Step 8: Test the Model\n",
    "\n",
    "check the model's performance by evaluating it on the test set."
   ]
  },
  {
   "cell_type": "code",
   "execution_count": 13,
   "id": "bdf381d59ff9f467",
   "metadata": {
    "collapsed": false,
    "pycharm": {
     "name": "#%%\n"
    },
    "ExecuteTime": {
     "end_time": "2025-01-15T12:33:55.726196200Z",
     "start_time": "2025-01-15T12:33:51.682494300Z"
    }
   },
   "outputs": [
    {
     "name": "stdout",
     "output_type": "stream",
     "text": [
      "Test Accuracy: 0.9668829715820094\n"
     ]
    }
   ],
   "source": [
    "model.eval()\n",
    "with torch.no_grad():\n",
    "    test_preds = []\n",
    "    test_labels = []\n",
    "    for texts, labels in test_loader:\n",
    "        texts, labels = texts.to(device), labels.to(device)\n",
    "        outputs = model(texts).squeeze(1)  # Ensure outputs have the same shape as labels\n",
    "        preds = torch.round(torch.sigmoid(outputs)).cpu().numpy()\n",
    "        test_preds.extend(preds)\n",
    "        test_labels.extend(labels.cpu().numpy())\n",
    "\n",
    "    test_acc = accuracy_score(test_labels, test_preds)\n",
    "    print(f\"Test Accuracy: {test_acc}\")"
   ]
  },
  {
   "cell_type": "markdown",
   "source": [
    "### Step 9: Visualize Training and Validation Loss\n",
    "Visualize the training and validation loss over epochs to understand the model's training progress.\n"
   ],
   "metadata": {
    "collapsed": false
   },
   "id": "906fc48c855824af"
  },
  {
   "cell_type": "code",
   "execution_count": 14,
   "id": "dae5ab1a55bf3154",
   "metadata": {
    "collapsed": false,
    "pycharm": {
     "name": "#%%\n"
    },
    "ExecuteTime": {
     "end_time": "2025-01-15T12:33:56.139753800Z",
     "start_time": "2025-01-15T12:33:55.734197400Z"
    }
   },
   "outputs": [
    {
     "data": {
      "text/plain": "<Figure size 1000x500 with 1 Axes>",
      "image/png": "[encoded data removed]"
     },
     "metadata": {},
     "output_type": "display_data"
    }
   ],
   "source": [
    "def plot_losses(train_losses, val_losses):\n",
    "    plt.figure(figsize=(10, 5))\n",
    "    plt.plot(train_losses, label='Training Loss')\n",
    "    plt.plot(val_losses, label='Validation Loss')\n",
    "    plt.xlabel('Epochs')\n",
    "    plt.ylabel('Loss')\n",
    "    plt.title('Training and Validation Loss Over Epochs')\n",
    "    plt.legend()\n",
    "    plt.show()\n",
    "\n",
    "\n",
    "plot_losses(loss_training_values, loss_validation_values)"
   ]
  },
  {
   "cell_type": "markdown",
   "source": [
    "### Step 10: Visualize Training and Validation Accuracy\n",
    "\n",
    "Visualize the training and validation accuracy over epochs to understand the model's performance."
   ],
   "metadata": {
    "collapsed": false
   },
   "id": "bbe81e78df4562a3"
  },
  {
   "cell_type": "code",
   "execution_count": 15,
   "id": "ae70888b88d3ad5",
   "metadata": {
    "collapsed": false,
    "pycharm": {
     "name": "#%%\n"
    },
    "ExecuteTime": {
     "end_time": "2025-01-15T12:33:56.319953700Z",
     "start_time": "2025-01-15T12:33:56.143787200Z"
    }
   },
   "outputs": [
    {
     "data": {
      "text/plain": "<Figure size 1000x500 with 1 Axes>",
      "image/png": "[encoded data removed]"
     },
     "metadata": {},
     "output_type": "display_data"
    }
   ],
   "source": [
    "def plot_accuracies(train_accuracies, val_accuracies):\n",
    "    plt.figure(figsize=(10, 5))\n",
    "    plt.plot(train_accuracies, label='Training Accuracy')\n",
    "    plt.plot(val_accuracies, label='Validation Accuracy')\n",
    "    plt.xlabel('Epochs')\n",
    "    plt.ylabel('Accuracy')\n",
    "    plt.title('Training and Validation Accuracy Over Epochs')\n",
    "    plt.legend()\n",
    "    plt.show()\n",
    "\n",
    "\n",
    "plot_accuracies(acc_training_values, acc_validation)"
   ]
  },
  {
   "cell_type": "markdown",
   "source": [
    "## How to Use the Model for Prediction\n",
    "We can use the trained model to predict the authenticity of new text data.\n",
    "\n",
    "you need to have the model, vocabulary, and the `predict_text` function defined below."
   ],
   "metadata": {
    "collapsed": false
   },
   "id": "116004d7880a5cb1"
  },
  {
   "cell_type": "code",
   "execution_count": 16,
   "id": "e7ac8118dd1747",
   "metadata": {
    "collapsed": false,
    "pycharm": {
     "name": "#%%\n"
    },
    "ExecuteTime": {
     "end_time": "2025-01-15T12:33:56.344904400Z",
     "start_time": "2025-01-15T12:33:56.324380400Z"
    }
   },
   "outputs": [],
   "source": [
    "def predict_text(model, text, vocab, max_len=200, device='cuda' if torch.cuda.is_available() else 'cpu'):\n",
    "    # Set model to evaluation mode\n",
    "    model.eval()\n",
    "\n",
    "    # Tokenize and convert text to sequence\n",
    "    sequence = [vocab.get(word, vocab[\"<UNK>\"]) for word in text.split()]\n",
    "    if len(sequence) < max_len:\n",
    "        sequence.extend([vocab[\"<PAD>\"]] * (max_len - len(sequence)))\n",
    "    sequence = sequence[:max_len]\n",
    "\n",
    "    # Convert to tensor\n",
    "    sequence_tensor = torch.tensor([sequence], dtype=torch.long).to(device)\n",
    "\n",
    "    # Get prediction\n",
    "    with torch.no_grad():\n",
    "        output = model(sequence_tensor)\n",
    "        prediction = torch.sigmoid(output.squeeze())\n",
    "        probability = prediction.item()\n",
    "        binary_prediction = 1 if probability >= 0.5 else 0\n",
    "\n",
    "    return binary_prediction, probability\n",
    "\n"
   ]
  },
  {
   "cell_type": "code",
   "execution_count": 17,
   "id": "dd7be049ae8ed2a7",
   "metadata": {
    "collapsed": false,
    "pycharm": {
     "name": "#%%\n"
    },
    "ExecuteTime": {
     "end_time": "2025-01-15T12:33:56.768069800Z",
     "start_time": "2025-01-15T12:33:56.330903800Z"
    }
   },
   "outputs": [
    {
     "name": "stderr",
     "output_type": "stream",
     "text": [
      "C:\\Users\\shayg\\AppData\\Local\\Temp\\ipykernel_8600\\2136673820.py:3: FutureWarning: You are using `torch.load` with `weights_only=False` (the current default value), which uses the default pickle module implicitly. It is possible to construct malicious pickle data which will execute arbitrary code during unpickling (See https://github.com/pytorch/pytorch/blob/main/SECURITY.md#untrusted-models for more details). In a future release, the default value for `weights_only` will be flipped to `True`. This limits the functions that could be executed during unpickling. Arbitrary objects will no longer be allowed to be loaded via this mode unless they are explicitly allowlisted by the user via `torch.serialization.add_safe_globals`. We recommend you start setting `weights_only=True` for any use case where you don't have full control of the loaded file. Please open an issue on GitHub for any issues related to this experimental feature.\n",
      "  model.load_state_dict(torch.load('best_mlp_model.pth'))\n"
     ]
    },
    {
     "data": {
      "text/plain": "<All keys matched successfully>"
     },
     "execution_count": 17,
     "metadata": {},
     "output_type": "execute_result"
    }
   ],
   "source": [
    "# Load the saved model\n",
    "model = MLPModel(embedding_matrix=embedding_matrix, hidden_dims=[256, 128, 64], output_dim=1).to(device)\n",
    "model.load_state_dict(torch.load('best_mlp_model.pth'))\n"
   ]
  },
  {
   "cell_type": "code",
   "execution_count": 18,
   "id": "75510970f424643f",
   "metadata": {
    "collapsed": false,
    "pycharm": {
     "name": "#%%\n"
    },
    "ExecuteTime": {
     "end_time": "2025-01-15T12:33:56.769114700Z",
     "start_time": "2025-01-15T12:33:56.630953200Z"
    }
   },
   "outputs": [
    {
     "name": "stdout",
     "output_type": "stream",
     "text": [
      "Prediction: Fake\n",
      "Confidence: 98.68%\n",
      "Prediction: Fake\n",
      "Confidence: 96.81%\n"
     ]
    }
   ],
   "source": [
    "# Example usage\n",
    "new_text1 = \"The meshich will be coming soon\"\n",
    "new_text2 = \"Donald Trump has proposed a new change\"\n",
    "prediction, probability = predict_text(model, new_text1, vocab)\n",
    "print(f\"Prediction: {'Fake' if prediction == 1 else 'Real'}\")\n",
    "print(f\"Confidence: {probability:.2%}\")\n",
    "\n",
    "prediction, probability = predict_text(model, new_text2, vocab)\n",
    "print(f\"Prediction: {'Fake' if prediction == 1 else 'Real'}\")\n",
    "print(f\"Confidence: {probability:.2%}\")\n"
   ]
  },
  {
   "cell_type": "code",
   "execution_count": 18,
   "id": "4aeda3e04ba91866",
   "metadata": {
    "collapsed": false,
    "pycharm": {
     "name": "#%%\n"
    },
    "ExecuteTime": {
     "end_time": "2025-01-15T12:33:56.769114700Z",
     "start_time": "2025-01-15T12:33:56.631958200Z"
    }
   },
   "outputs": [],
   "source": []
  }
 ],
 "metadata": {
  "kernelspec": {
   "display_name": "Python 3 (ipykernel)",
   "language": "python",
   "name": "python3"
  },
  "language_info": {
   "codemirror_mode": {
    "name": "ipython",
    "version": 3
   },
   "file_extension": ".py",
   "mimetype": "text/x-python",
   "name": "python",
   "nbconvert_exporter": "python",
   "pygments_lexer": "ipython3",
   "version": "3.10.6"
  }
 },
 "nbformat": 4,
 "nbformat_minor": 5
}
